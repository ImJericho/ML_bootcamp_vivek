{
  "nbformat": 4,
  "nbformat_minor": 0,
  "metadata": {
    "colab": {
      "name": "KNN_1.ipynb",
      "provenance": [],
      "collapsed_sections": [],
      "authorship_tag": "ABX9TyOYbf8GmqwZ+E8yVEgZauSJ",
      "include_colab_link": true
    },
    "kernelspec": {
      "display_name": "Python 3",
      "name": "python3"
    },
    "language_info": {
      "name": "python"
    }
  },
  "cells": [
    {
      "cell_type": "markdown",
      "metadata": {
        "id": "view-in-github",
        "colab_type": "text"
      },
      "source": [
        "<a href=\"https://colab.research.google.com/github/vivekpatidar1413/ML_bootcamp_vivek/blob/KNN/KNN_1.ipynb\" target=\"_parent\"><img src=\"https://colab.research.google.com/assets/colab-badge.svg\" alt=\"Open In Colab\"/></a>"
      ]
    },
    {
      "cell_type": "markdown",
      "metadata": {
        "id": "WfhJGhaKBojY"
      },
      "source": [
        "# Importing All The Basic Libraries\n"
      ]
    },
    {
      "cell_type": "code",
      "metadata": {
        "id": "hmUqrEFIbAFx"
      },
      "source": [
        "import numpy as np\n",
        "import pandas as pd\n",
        "import matplotlib.pyplot as plt\n",
        "from sklearn.metrics import accuracy_score"
      ],
      "execution_count": null,
      "outputs": []
    },
    {
      "cell_type": "markdown",
      "metadata": {
        "id": "1N2-mJNoBgGB"
      },
      "source": [
        "# Importing The Mnist Dataset\n"
      ]
    },
    {
      "cell_type": "code",
      "metadata": {
        "id": "0wtAXsYOUffE"
      },
      "source": [
        "train_df = pd.read_csv(\"/content/sample_data/mnist_train_small.csv\")\n",
        "test_df  = pd.read_csv(\"/content/sample_data/mnist_test.csv\")"
      ],
      "execution_count": null,
      "outputs": []
    },
    {
      "cell_type": "code",
      "metadata": {
        "id": "UiKOHYNAVSgi"
      },
      "source": [
        "train = train_df.to_numpy()\n",
        "test  = test_df.to_numpy()"
      ],
      "execution_count": null,
      "outputs": []
    },
    {
      "cell_type": "code",
      "metadata": {
        "id": "XH6jmP3nZGEb"
      },
      "source": [
        "test = test[np.argsort(test[:, 0])]"
      ],
      "execution_count": null,
      "outputs": []
    },
    {
      "cell_type": "code",
      "metadata": {
        "id": "wqEadIN0VUTT"
      },
      "source": [
        "x_train = train[:,1:]\n",
        "y_train = train[:,:1]\n",
        "\n",
        "x_n_test = test[:,1:]\n",
        "y_n_test = test[:,:1]"
      ],
      "execution_count": null,
      "outputs": []
    },
    {
      "cell_type": "code",
      "metadata": {
        "colab": {
          "base_uri": "https://localhost:8080/"
        },
        "id": "vqA51rDQZdrV",
        "outputId": "f458ad5f-d9fd-4395-ac0c-0181ce497a01"
      },
      "source": [
        "digit = []\n",
        "for j in range(10):\n",
        "  temp = 0\n",
        "  for i in range(9999):\n",
        "    if test[i][0] == j:\n",
        "      temp = temp + 1\n",
        "  print('the',j,'digit occures',temp,'times')\n",
        "  digit.append(temp)"
      ],
      "execution_count": null,
      "outputs": [
        {
          "output_type": "stream",
          "text": [
            "the 0 digit occures 980 times\n",
            "the 1 digit occures 1135 times\n",
            "the 2 digit occures 1032 times\n",
            "the 3 digit occures 1010 times\n",
            "the 4 digit occures 982 times\n",
            "the 5 digit occures 892 times\n",
            "the 6 digit occures 958 times\n",
            "the 7 digit occures 1027 times\n",
            "the 8 digit occures 974 times\n",
            "the 9 digit occures 1009 times\n"
          ],
          "name": "stdout"
        }
      ]
    },
    {
      "cell_type": "markdown",
      "metadata": {
        "id": "zqjzC73lB0_9"
      },
      "source": [
        "**Customizing The Data**\n",
        "\n",
        "1.   spliting the dataset into all diffrent digits\n",
        "2.   and then further spliting it into y_test and x_test\n",
        "\n"
      ]
    },
    {
      "cell_type": "code",
      "metadata": {
        "id": "maPWPeE3fA1D"
      },
      "source": [
        "test_0 = test[:980,:]\n",
        "test_1 = test[980:2115,:]\n",
        "test_2 = test[2155:3147,:]\n",
        "test_3 = test[3147:4157,:]\n",
        "test_4 = test[4157:5139,:]\n",
        "test_5 = test[5139:6031,:]\n",
        "test_6 = test[6031:6989,:]\n",
        "test_7 = test[6989:8016,:]\n",
        "test_8 = test[8016:8990,:]\n",
        "test_9 = test[8990:,:]"
      ],
      "execution_count": null,
      "outputs": []
    },
    {
      "cell_type": "code",
      "metadata": {
        "id": "eOZE10IDTKg-"
      },
      "source": [
        "x_test_0 = test_0[:,1:]\n",
        "y_test_0 = test_0[:,:1]\n",
        "  \n",
        "x_test_1 = test_1[:,1:]\n",
        "y_test_1 = test_1[:,:1]\n",
        "\n",
        "\n",
        "x_test_2 = test_2[:,1:]\n",
        "y_test_2 = test_2[:,:1]\n",
        "\n",
        "x_test_3 = test_3[:,1:]\n",
        "y_test_3 = test_3[:,:1]\n",
        "\n",
        "x_test_4 = test_4[:,1:]\n",
        "y_test_4 = test_4[:,:1]\n",
        "\n",
        "x_test_5 = test_5[:,1:]\n",
        "y_test_5 = test_5[:,:1]\n",
        "\n",
        "x_test_6 = test_6[:,1:]\n",
        "y_test_6 = test_6[:,:1]\n",
        "\n",
        "x_test_7 = test_7[:,1:]\n",
        "y_test_7 = test_7[:,:1]\n",
        "\n",
        "x_test_8 = test_8[:,1:]\n",
        "y_test_8 = test_8[:,:1]\n",
        "\n",
        "x_test_9 = test_9[:,1:]\n",
        "y_test_9 = test_9[:,:1]  "
      ],
      "execution_count": null,
      "outputs": []
    },
    {
      "cell_type": "code",
      "metadata": {
        "colab": {
          "base_uri": "https://localhost:8080/"
        },
        "id": "G7G3hjeidPF_",
        "outputId": "3e056d08-b14e-4287-9473-220812aae588"
      },
      "source": [
        "print(x_train.shape,x_test.shape)\n",
        "print(y_train.shape,y_test.shape)"
      ],
      "execution_count": null,
      "outputs": [
        {
          "output_type": "stream",
          "text": [
            "(19999, 784) (9999, 784)\n",
            "(19999, 1) (9999, 1)\n"
          ],
          "name": "stdout"
        }
      ]
    },
    {
      "cell_type": "markdown",
      "metadata": {
        "id": "878zH2KkCRu0"
      },
      "source": [
        "# Implementing k-nearest neighbors Algorithm"
      ]
    },
    {
      "cell_type": "markdown",
      "metadata": {
        "id": "BTPRJGr9Cg2A"
      },
      "source": [
        "the function to caluclate the sum of euclidean distace from all the training logs"
      ]
    },
    {
      "cell_type": "code",
      "metadata": {
        "id": "5TEeh8QNbkfx"
      },
      "source": [
        "# calculating euclidean distance\n",
        "def dist(x,y):\n",
        "    temp = np.sqrt(np.sum((x-y)**2))   \n",
        "    return temp"
      ],
      "execution_count": null,
      "outputs": []
    },
    {
      "cell_type": "code",
      "metadata": {
        "id": "luk214slhGW0"
      },
      "source": [
        "# defing the main preiction array to store all the prediction of digit done by individual function call\n",
        "y_pred = np.array([10]*9999)"
      ],
      "execution_count": null,
      "outputs": []
    },
    {
      "cell_type": "markdown",
      "metadata": {
        "id": "QTrEBp6ODBJo"
      },
      "source": [
        "THE MAIN FUNCTION BEGINS FROM HERE\n",
        "\n",
        "*   This will take indi\n",
        "*   List item\n",
        "\n"
      ]
    },
    {
      "cell_type": "code",
      "metadata": {
        "id": "QXQxljCHhGTa"
      },
      "source": [
        "def The_Main_Function (k,x_test,y_test,number_of_digit,digit):\n",
        "\n",
        "  no_of_correctly_predicted_digits = 0\n",
        "\n",
        "  for i in range(number_of_digit):\n",
        "    \n",
        "    knn_values = []\n",
        "    euclidean_distace = []\n",
        "\n",
        "\n",
        "    for j in range(19999):\n",
        "      temp = dist(x_train[j],x_test[i])\n",
        "      euclidean_distace.append([temp,j])\n",
        "\n",
        "    euclidean_distace.sort()\n",
        "\n",
        "    # taking the k nearest data points\n",
        "    for m in range(k):\n",
        "      p = euclidean_distace[m][1]\n",
        "      \n",
        "      l = y_train[p]\n",
        "      lw = int(l)\n",
        "      knn_values.append(lw)\n",
        "\n",
        "    y_pred[i] = max(set(knn_values), key=knn_values.count)\n",
        "    \n",
        "    \n",
        "    if y_pred[i] == digit:\n",
        "      no_of_correctly_predicted_digits += 1\n",
        "\n",
        "\n",
        "  print('for',digit,'\\n',no_of_correctly_predicted_digits,'out of ',number_of_digit,'are correctly predicted')\n",
        "  print('accuracy is',no_of_correctly_predicted_digits/number_of_digit*100,'%')\n"
      ],
      "execution_count": null,
      "outputs": []
    },
    {
      "cell_type": "code",
      "metadata": {
        "id": "sJDEt58qnyDq"
      },
      "source": [
        "total_correct_predictions = 0"
      ],
      "execution_count": null,
      "outputs": []
    },
    {
      "cell_type": "code",
      "metadata": {
        "colab": {
          "base_uri": "https://localhost:8080/"
        },
        "id": "lfajxon4nRWr",
        "outputId": "25171310-5af6-48e0-fc16-8e42853c84a1"
      },
      "source": [
        "The_Main_Function(3,x_test_0,y_test_0,digit[0],0)"
      ],
      "execution_count": null,
      "outputs": [
        {
          "output_type": "stream",
          "text": [
            "for 0 \n",
            " 1 out of  980 are correctly predicted\n",
            "accuracy is 0.10204081632653061 %\n"
          ],
          "name": "stdout"
        }
      ]
    },
    {
      "cell_type": "code",
      "metadata": {
        "colab": {
          "base_uri": "https://localhost:8080/"
        },
        "id": "wvNuHIYlrQxO",
        "outputId": "2a9cd241-14fc-4137-99a3-309b2d7bf402"
      },
      "source": [
        "for i in range(digit[0]):\n",
        "  print(y_pred[i],end=',')"
      ],
      "execution_count": null,
      "outputs": [
        {
          "output_type": "stream",
          "text": [
            "0,0,0,0,0,0,0,0,0,0,0,0,0,0,0,0,0,0,0,0,0,0,0,0,0,0,0,0,0,0,0,0,0,0,0,0,0,0,0,0,0,0,0,0,0,0,0,0,0,0,0,0,0,0,0,0,0,0,0,0,0,0,0,0,0,0,0,0,0,0,0,0,0,0,0,0,0,0,0,0,0,0,0,0,0,0,0,0,0,0,0,0,0,0,0,0,0,0,0,0,0,0,0,0,0,0,0,0,0,0,0,0,0,0,0,0,0,0,0,0,0,0,0,0,0,0,0,0,0,0,0,0,0,0,0,0,0,6,0,0,0,0,0,0,0,0,0,0,0,0,0,0,0,0,0,0,0,0,0,0,0,0,0,0,0,0,0,0,0,0,0,0,0,0,0,0,0,0,0,0,0,0,0,0,0,0,0,6,0,0,0,0,0,0,0,0,0,0,0,0,0,0,0,0,0,0,0,0,0,0,0,0,0,0,0,0,0,0,0,0,0,0,0,0,0,0,0,0,0,0,0,0,0,0,0,0,0,0,0,0,0,0,0,0,0,0,0,0,0,0,0,0,0,0,0,0,0,0,0,0,0,0,0,0,0,0,0,0,0,0,0,0,0,0,0,0,0,0,0,0,0,0,0,0,0,0,0,0,0,0,0,0,0,0,0,0,0,0,0,0,0,0,0,0,0,0,0,0,0,0,6,0,0,0,0,0,0,0,0,0,0,0,0,0,0,0,0,0,0,0,0,0,0,0,0,0,0,0,0,0,0,0,0,0,0,0,0,0,0,0,0,0,0,0,0,0,0,0,0,0,0,0,0,0,0,0,0,0,0,0,0,0,0,0,0,0,0,0,0,0,0,0,0,0,0,0,0,0,0,0,0,0,0,0,0,0,0,0,0,0,0,0,0,0,0,0,0,0,0,0,0,0,0,0,0,0,0,0,0,0,0,0,0,0,0,0,0,0,0,0,0,0,0,0,0,0,0,0,0,0,0,0,0,0,0,0,0,0,0,0,0,0,0,0,0,0,0,0,0,0,0,0,0,0,0,0,0,0,0,0,0,0,0,0,0,0,0,0,0,0,0,0,0,0,0,0,0,0,0,0,0,0,0,0,0,0,0,0,0,0,0,0,0,0,0,0,0,0,0,0,0,0,0,0,0,0,0,0,0,0,0,0,0,0,0,0,0,0,0,0,0,0,0,0,0,0,0,0,0,0,0,0,0,0,0,0,0,0,0,0,0,0,0,0,0,0,0,0,0,0,0,0,0,0,0,0,0,0,0,0,0,0,0,0,0,0,0,0,7,0,0,0,0,0,0,0,0,0,0,0,0,0,0,0,0,0,0,0,0,0,1,0,0,0,0,0,0,0,0,0,0,0,0,0,0,0,0,0,0,0,0,0,0,0,0,0,0,2,0,0,0,0,0,0,0,0,0,0,0,0,0,0,0,0,0,0,0,0,0,0,0,0,0,0,0,0,0,0,0,0,0,0,0,0,0,0,0,0,0,0,0,0,0,0,0,0,0,0,0,0,0,0,0,0,0,0,0,0,0,0,0,0,0,0,0,0,0,0,0,0,0,0,0,0,0,0,0,0,0,0,0,0,0,0,0,0,0,0,0,0,0,0,0,0,0,0,0,0,0,0,0,0,0,0,0,0,0,0,0,0,0,0,0,0,0,0,0,0,0,0,0,0,0,0,0,0,0,0,0,0,0,0,0,0,0,0,0,0,0,0,0,0,1,0,0,0,0,0,0,0,0,0,0,0,0,0,0,0,0,0,0,0,0,0,0,0,0,0,0,0,0,0,0,0,0,0,0,0,0,0,0,0,0,0,0,0,0,0,0,0,0,0,0,0,0,0,0,0,0,0,0,0,0,0,6,0,0,0,0,0,0,0,0,0,0,0,0,0,0,0,0,0,0,0,0,0,0,0,0,0,0,0,0,0,0,0,0,0,0,0,0,0,0,0,0,0,0,0,0,0,0,0,0,0,0,0,0,0,0,0,0,0,0,0,0,0,0,0,0,0,0,0,0,0,0,0,0,0,0,0,0,0,0,0,0,0,0,0,0,0,0,0,0,0,0,0,0,0,0,0,0,0,0,0,0,0,0,0,0,0,0,0,0,0,0,0,0,6,0,0,0,0,0,0,0,0,0,0,0,0,0,0,0,0,0,0,0,0,0,0,0,0,0,0,0,0,0,0,0,0,"
          ],
          "name": "stdout"
        }
      ]
    },
    {
      "cell_type": "code",
      "metadata": {
        "id": "7QqZ49xmnRTj",
        "colab": {
          "base_uri": "https://localhost:8080/"
        },
        "outputId": "26aa2d9e-2169-47c8-b9bd-7db87a1b479a"
      },
      "source": [
        "The_Main_Function(3,x_test_1,y_test_1,digit[1],1)"
      ],
      "execution_count": null,
      "outputs": [
        {
          "output_type": "stream",
          "text": [
            "for 1 \n",
            " 1 out of  1135 are correctly predicted\n",
            "accuracy is 0.0881057268722467 %\n"
          ],
          "name": "stdout"
        }
      ]
    },
    {
      "cell_type": "code",
      "metadata": {
        "colab": {
          "base_uri": "https://localhost:8080/"
        },
        "id": "_D7phmxdtOpw",
        "outputId": "07e5fba8-d62f-42c1-d806-f69a4adf69fc"
      },
      "source": [
        "for i in range(digit[0],digit[1]):\n",
        "  print(y_pred[i],end=',')"
      ],
      "execution_count": null,
      "outputs": [
        {
          "output_type": "stream",
          "text": [
            "1,1,1,1,1,1,1,1,1,1,1,1,1,1,1,1,1,1,1,1,1,1,1,1,1,1,1,1,1,1,1,1,1,1,1,1,1,1,1,1,1,1,1,1,1,1,1,1,1,1,1,1,1,1,1,1,1,1,1,1,1,1,1,1,1,1,1,1,1,1,1,1,1,1,1,1,1,1,1,1,1,1,1,1,1,1,1,1,1,1,1,1,1,1,1,1,1,1,1,1,1,1,1,1,1,1,1,1,1,1,1,1,1,1,1,1,1,1,1,1,1,1,1,1,1,1,1,1,1,1,1,1,1,1,1,1,1,1,1,1,1,1,1,1,1,1,1,1,1,1,1,1,1,1,1,"
          ],
          "name": "stdout"
        }
      ]
    },
    {
      "cell_type": "code",
      "metadata": {
        "id": "I8ZWorPbnRRn",
        "colab": {
          "base_uri": "https://localhost:8080/",
          "height": 287
        },
        "outputId": "bd6bec50-05d2-424e-b2dc-9935d9642f5d"
      },
      "source": [
        "The_Main_Function(3,x_test_2,y_test_2,digit[2],2)"
      ],
      "execution_count": null,
      "outputs": [
        {
          "output_type": "error",
          "ename": "IndexError",
          "evalue": "ignored",
          "traceback": [
            "\u001b[0;31m---------------------------------------------------------------------------\u001b[0m",
            "\u001b[0;31mIndexError\u001b[0m                                Traceback (most recent call last)",
            "\u001b[0;32m<ipython-input-238-e78079fb1b85>\u001b[0m in \u001b[0;36m<module>\u001b[0;34m()\u001b[0m\n\u001b[0;32m----> 1\u001b[0;31m \u001b[0mThe_Main_Function\u001b[0m\u001b[0;34m(\u001b[0m\u001b[0;36m3\u001b[0m\u001b[0;34m,\u001b[0m\u001b[0mx_test_2\u001b[0m\u001b[0;34m,\u001b[0m\u001b[0my_test_2\u001b[0m\u001b[0;34m,\u001b[0m\u001b[0mdigit\u001b[0m\u001b[0;34m[\u001b[0m\u001b[0;36m2\u001b[0m\u001b[0;34m]\u001b[0m\u001b[0;34m,\u001b[0m\u001b[0;36m2\u001b[0m\u001b[0;34m)\u001b[0m\u001b[0;34m\u001b[0m\u001b[0;34m\u001b[0m\u001b[0m\n\u001b[0m",
            "\u001b[0;32m<ipython-input-236-4d8be3f2005e>\u001b[0m in \u001b[0;36mThe_Main_Function\u001b[0;34m(k, x_test, y_test, number_of_digit, digit)\u001b[0m\n\u001b[1;32m     10\u001b[0m \u001b[0;34m\u001b[0m\u001b[0m\n\u001b[1;32m     11\u001b[0m     \u001b[0;32mfor\u001b[0m \u001b[0mj\u001b[0m \u001b[0;32min\u001b[0m \u001b[0mrange\u001b[0m\u001b[0;34m(\u001b[0m\u001b[0;36m19999\u001b[0m\u001b[0;34m)\u001b[0m\u001b[0;34m:\u001b[0m\u001b[0;34m\u001b[0m\u001b[0;34m\u001b[0m\u001b[0m\n\u001b[0;32m---> 12\u001b[0;31m       \u001b[0mtemp\u001b[0m \u001b[0;34m=\u001b[0m \u001b[0mdist\u001b[0m\u001b[0;34m(\u001b[0m\u001b[0mx_train\u001b[0m\u001b[0;34m[\u001b[0m\u001b[0mj\u001b[0m\u001b[0;34m]\u001b[0m\u001b[0;34m,\u001b[0m\u001b[0mx_test\u001b[0m\u001b[0;34m[\u001b[0m\u001b[0mi\u001b[0m\u001b[0;34m]\u001b[0m\u001b[0;34m)\u001b[0m\u001b[0;34m\u001b[0m\u001b[0;34m\u001b[0m\u001b[0m\n\u001b[0m\u001b[1;32m     13\u001b[0m       \u001b[0meuclidean_distace\u001b[0m\u001b[0;34m.\u001b[0m\u001b[0mappend\u001b[0m\u001b[0;34m(\u001b[0m\u001b[0;34m[\u001b[0m\u001b[0mtemp\u001b[0m\u001b[0;34m,\u001b[0m\u001b[0mj\u001b[0m\u001b[0;34m]\u001b[0m\u001b[0;34m)\u001b[0m\u001b[0;34m\u001b[0m\u001b[0;34m\u001b[0m\u001b[0m\n\u001b[1;32m     14\u001b[0m \u001b[0;34m\u001b[0m\u001b[0m\n",
            "\u001b[0;31mIndexError\u001b[0m: index 992 is out of bounds for axis 0 with size 992"
          ]
        }
      ]
    },
    {
      "cell_type": "code",
      "metadata": {
        "id": "_sUYMH_MuIF-"
      },
      "source": [
        "for i in range(digit[1],digit[2]):\n",
        "  print(y_pred[i],end=',')"
      ],
      "execution_count": null,
      "outputs": []
    },
    {
      "cell_type": "code",
      "metadata": {
        "id": "RK5YLx1snRPn"
      },
      "source": [
        "The_Main_Function(3,x_test_3,y_test_3,digit[3],3)"
      ],
      "execution_count": null,
      "outputs": []
    },
    {
      "cell_type": "code",
      "metadata": {
        "id": "2-XyfzhpuPGi"
      },
      "source": [
        "for i in range(digit[2],digit[3]):\n",
        "  print(y_pred[i],end=',')"
      ],
      "execution_count": null,
      "outputs": []
    },
    {
      "cell_type": "code",
      "metadata": {
        "id": "PJZu6ulrnRNP"
      },
      "source": [
        "The_Main_Function(3,x_test_4,y_test_4,digit[4],4)"
      ],
      "execution_count": null,
      "outputs": []
    },
    {
      "cell_type": "code",
      "metadata": {
        "id": "rg476atwucVP"
      },
      "source": [
        "for i in range(digit[3],digit[4]):\n",
        "  print(y_pred[i],end=',')"
      ],
      "execution_count": null,
      "outputs": []
    },
    {
      "cell_type": "code",
      "metadata": {
        "id": "oCaQc4gLomXc"
      },
      "source": [
        " The_Main_Function(3,x_test_5,y_test_5,digit[5],5)"
      ],
      "execution_count": null,
      "outputs": []
    },
    {
      "cell_type": "code",
      "metadata": {
        "id": "C1-xvKvYomUA"
      },
      "source": [
        "The_Main_Function(3,x_test_6,y_test_6,digit[6],6)"
      ],
      "execution_count": null,
      "outputs": []
    },
    {
      "cell_type": "code",
      "metadata": {
        "id": "c48pSUXSomR5"
      },
      "source": [
        "The_Main_Function(3,x_test_7,y_test_7,digit[7],7)"
      ],
      "execution_count": null,
      "outputs": []
    },
    {
      "cell_type": "code",
      "metadata": {
        "id": "znrHY-dool5R"
      },
      "source": [
        "The_Main_Function(3,x_test_8,y_test_8,digit[8],8)"
      ],
      "execution_count": null,
      "outputs": []
    },
    {
      "cell_type": "code",
      "metadata": {
        "id": "TbuxRIg_ooMR"
      },
      "source": [
        "The_Main_Function(3,x_test_9,y_test_9,digit[9],9)"
      ],
      "execution_count": null,
      "outputs": []
    },
    {
      "cell_type": "code",
      "metadata": {
        "id": "suu7-ODJo98f"
      },
      "source": [
        ""
      ],
      "execution_count": null,
      "outputs": []
    },
    {
      "cell_type": "code",
      "metadata": {
        "id": "SfObPZQro95H"
      },
      "source": [
        ""
      ],
      "execution_count": null,
      "outputs": []
    },
    {
      "cell_type": "code",
      "metadata": {
        "id": "P6zI_yTHco9T"
      },
      "source": [
        " distance_sums = np.array([1]*9999)"
      ],
      "execution_count": null,
      "outputs": []
    },
    {
      "cell_type": "code",
      "metadata": {
        "id": "2yfVvKWfedVA"
      },
      "source": [
        "distances = []"
      ],
      "execution_count": null,
      "outputs": []
    },
    {
      "cell_type": "code",
      "metadata": {
        "colab": {
          "base_uri": "https://localhost:8080/"
        },
        "id": "0rsgnymhbw7Z",
        "outputId": "64804fcb-9024-45be-b402-5f31b1faa84a"
      },
      "source": [
        "for i in range(9999):\n",
        "  distance_sums[i] = dist(x_test[i],x_train)\n",
        "  distances.append(distance_sums[i])\n",
        "  distances.sort()\n",
        "  distances"
      ],
      "execution_count": null,
      "outputs": [
        {
          "output_type": "stream",
          "text": [
            "0 th completed out of 9999\n",
            "100 th completed out of 9999\n",
            "200 th completed out of 9999\n",
            "300 th completed out of 9999\n",
            "400 th completed out of 9999\n",
            "500 th completed out of 9999\n",
            "600 th completed out of 9999\n",
            "700 th completed out of 9999\n",
            "800 th completed out of 9999\n",
            "900 th completed out of 9999\n",
            "1000 th completed out of 9999\n",
            "1100 th completed out of 9999\n",
            "1200 th completed out of 9999\n",
            "1300 th completed out of 9999\n",
            "1400 th completed out of 9999\n",
            "1500 th completed out of 9999\n",
            "1600 th completed out of 9999\n",
            "1700 th completed out of 9999\n",
            "1800 th completed out of 9999\n",
            "1900 th completed out of 9999\n",
            "2000 th completed out of 9999\n",
            "2100 th completed out of 9999\n",
            "2200 th completed out of 9999\n",
            "2300 th completed out of 9999\n",
            "2400 th completed out of 9999\n",
            "2500 th completed out of 9999\n",
            "2600 th completed out of 9999\n",
            "2700 th completed out of 9999\n",
            "2800 th completed out of 9999\n",
            "2900 th completed out of 9999\n",
            "3000 th completed out of 9999\n",
            "3100 th completed out of 9999\n",
            "3200 th completed out of 9999\n",
            "3300 th completed out of 9999\n",
            "3400 th completed out of 9999\n",
            "3500 th completed out of 9999\n",
            "3600 th completed out of 9999\n",
            "3700 th completed out of 9999\n",
            "3800 th completed out of 9999\n",
            "3900 th completed out of 9999\n",
            "4000 th completed out of 9999\n",
            "4100 th completed out of 9999\n",
            "4200 th completed out of 9999\n",
            "4300 th completed out of 9999\n",
            "4400 th completed out of 9999\n",
            "4500 th completed out of 9999\n",
            "4600 th completed out of 9999\n",
            "4700 th completed out of 9999\n",
            "4800 th completed out of 9999\n",
            "4900 th completed out of 9999\n",
            "5000 th completed out of 9999\n",
            "5100 th completed out of 9999\n",
            "5200 th completed out of 9999\n",
            "5300 th completed out of 9999\n",
            "5400 th completed out of 9999\n",
            "5500 th completed out of 9999\n",
            "5600 th completed out of 9999\n",
            "5700 th completed out of 9999\n",
            "5800 th completed out of 9999\n",
            "5900 th completed out of 9999\n",
            "6000 th completed out of 9999\n",
            "6100 th completed out of 9999\n",
            "6200 th completed out of 9999\n",
            "6300 th completed out of 9999\n",
            "6400 th completed out of 9999\n",
            "6500 th completed out of 9999\n",
            "6600 th completed out of 9999\n",
            "6700 th completed out of 9999\n",
            "6800 th completed out of 9999\n",
            "6900 th completed out of 9999\n",
            "7000 th completed out of 9999\n",
            "7100 th completed out of 9999\n",
            "7200 th completed out of 9999\n",
            "7300 th completed out of 9999\n",
            "7400 th completed out of 9999\n",
            "7500 th completed out of 9999\n",
            "7600 th completed out of 9999\n",
            "7700 th completed out of 9999\n",
            "7800 th completed out of 9999\n",
            "7900 th completed out of 9999\n",
            "8000 th completed out of 9999\n",
            "8100 th completed out of 9999\n",
            "8200 th completed out of 9999\n",
            "8300 th completed out of 9999\n",
            "8400 th completed out of 9999\n",
            "8500 th completed out of 9999\n",
            "8600 th completed out of 9999\n",
            "8700 th completed out of 9999\n",
            "8800 th completed out of 9999\n",
            "8900 th completed out of 9999\n",
            "9000 th completed out of 9999\n",
            "9100 th completed out of 9999\n",
            "9200 th completed out of 9999\n",
            "9300 th completed out of 9999\n",
            "9400 th completed out of 9999\n",
            "9500 th completed out of 9999\n",
            "9600 th completed out of 9999\n",
            "9700 th completed out of 9999\n",
            "9800 th completed out of 9999\n",
            "9900 th completed out of 9999\n",
            "the number of correct prediction is 9581 so the acuracy is 95.81958195819583\n"
          ],
          "name": "stdout"
        }
      ]
    },
    {
      "cell_type": "code",
      "metadata": {
        "id": "0pRUcAmRLPTj"
      },
      "source": [
        ""
      ],
      "execution_count": null,
      "outputs": []
    },
    {
      "cell_type": "code",
      "metadata": {
        "id": "YknhHtbRLP-M"
      },
      "source": [
        ""
      ],
      "execution_count": null,
      "outputs": []
    },
    {
      "cell_type": "code",
      "metadata": {
        "id": "LE3J1THrLPMx"
      },
      "source": [
        "train_distance_list = []\n",
        "train_ind_counter = []\n",
        "\n",
        "\n",
        "for i in range(0,6000):\n",
        "    train_vec_one = df_train.iloc[i]\n",
        "\n",
        "    for j in range(0,6000):\n",
        "        train_vec = df_train.iloc[j]\n",
        "        euclidean_dist = dist(train_vec_one,train_vec)\n",
        "        train_distance_list.append(euclidean_dist)\n",
        "\n",
        "        train_ind_counter.append(j)\n",
        "    \n",
        "    # sort in ascending order by euclidean distance\n",
        "    df_sorted = df.sort_values(by = 'distance')\n",
        "\n",
        "    # iterate through each value of K\n",
        "    for K in range(len(k_values)):\n",
        "        index_list = list(df_sorted['index'][:k_values[K]])\n",
        "        distance = list(df_sorted['distance'][:k_values[K]])\n",
        "        res_list = [y_train[i] for i in index_list]\n",
        "        # now get the count of the max class in result list\n",
        "        pred_value = max(res_list,key=res_list.count)\n",
        "        # storing every prediction for K in respective list\n",
        "        train_pred_lists[K].append(pred_value)\n",
        "    \n",
        "    # reinitialize the list\n",
        "    train_ind_counter = []\n",
        "    train_distance_list = []"
      ],
      "execution_count": null,
      "outputs": []
    },
    {
      "cell_type": "code",
      "metadata": {
        "id": "O-TEqo6SLbyn"
      },
      "source": [
        "# a list to store euclidean distance\n",
        "test_distance_list = []\n",
        "# a list to store index\n",
        "test_ind_counter = []\n",
        "# creating a list of list for storing the predictions for each value of K\n",
        "test_pred_lists = [[] for _ in range(len(k_values))]\n",
        "\n",
        "# testing the knn model\n",
        "# iterating through the test set\n",
        "for i in range(0,1000):\n",
        "    test_vec = df_test.iloc[i]\n",
        "    # iterating through the training set\n",
        "    for j in range(0,6000): \n",
        "        train_vec = df_train.iloc[j]\n",
        "        # calculate euclidean distance\n",
        "        euclidean_dist = dist(test_vec,train_vec)\n",
        "        test_distance_list.append(euclidean_dist)\n",
        "        # increment the index\n",
        "        test_ind_counter.append(j)\n",
        "    \n",
        "    # dictionary to store all the results\n",
        "    d = {'index':test_ind_counter, 'distance': test_distance_list}\n",
        "    # convert dictionary to dataframe\n",
        "    df = pd.DataFrame(d, columns = ['index', 'distance'])\n",
        "    # sort in ascending order by euclidean distance\n",
        "    df_sorted = df.sort_values(by = 'distance')\n",
        "\n",
        "    # iterate through each value of K\n",
        "    for K in range(len(k_values)):\n",
        "        index_list = list(df_sorted['index'][:k_values[K]])\n",
        "        distance = list(df_sorted['distance'][:k_values[K]])\n",
        "        res_list = [train_pred_lists[K][ind] for ind in index_list]\n",
        "        # now get the count of the max class in result list\n",
        "        pred_value = max(res_list,key=res_list.count)\n",
        "        # storing every prediction in respective list\n",
        "        test_pred_lists[K].append(pred_value)\n",
        "\n",
        "      # # reinitialize the list   \n",
        "    test_ind_counter = []\n",
        "    test_distance_list = []"
      ],
      "execution_count": null,
      "outputs": []
    }
  ]
}