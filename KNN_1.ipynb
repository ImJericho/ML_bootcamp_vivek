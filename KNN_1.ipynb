{
  "nbformat": 4,
  "nbformat_minor": 0,
  "metadata": {
    "colab": {
      "name": "KNN_1.ipynb",
      "provenance": [],
      "collapsed_sections": [],
      "authorship_tag": "ABX9TyM0xukg/8E6NSDRBVzpHIdp",
      "include_colab_link": true
    },
    "kernelspec": {
      "display_name": "Python 3",
      "name": "python3"
    },
    "language_info": {
      "name": "python"
    }
  },
  "cells": [
    {
      "cell_type": "markdown",
      "metadata": {
        "id": "view-in-github",
        "colab_type": "text"
      },
      "source": [
        "<a href=\"https://colab.research.google.com/github/vivekpatidar1413/ML_bootcamp_vivek/blob/KNN/KNN_1.ipynb\" target=\"_parent\"><img src=\"https://colab.research.google.com/assets/colab-badge.svg\" alt=\"Open In Colab\"/></a>"
      ]
    },
    {
      "cell_type": "markdown",
      "metadata": {
        "id": "WfhJGhaKBojY"
      },
      "source": [
        "# Importing All The Basic Libraries\n"
      ]
    },
    {
      "cell_type": "code",
      "metadata": {
        "id": "hmUqrEFIbAFx"
      },
      "source": [
        "import numpy as np\n",
        "import pandas as pd\n",
        "import matplotlib.pyplot as plt\n",
        "from sklearn.metrics import accuracy_score"
      ],
      "execution_count": null,
      "outputs": []
    },
    {
      "cell_type": "markdown",
      "metadata": {
        "id": "1N2-mJNoBgGB"
      },
      "source": [
        "# Importing The Mnist Dataset\n"
      ]
    },
    {
      "cell_type": "code",
      "metadata": {
        "id": "0wtAXsYOUffE"
      },
      "source": [
        "train_df = pd.read_csv(\"/content/sample_data/mnist_train_small.csv\")\n",
        "test_df  = pd.read_csv(\"/content/sample_data/mnist_test.csv\")"
      ],
      "execution_count": null,
      "outputs": []
    },
    {
      "cell_type": "code",
      "metadata": {
        "id": "UiKOHYNAVSgi"
      },
      "source": [
        "train = train_df.to_numpy()\n",
        "test  = test_df.to_numpy()"
      ],
      "execution_count": null,
      "outputs": []
    },
    {
      "cell_type": "code",
      "metadata": {
        "id": "XH6jmP3nZGEb"
      },
      "source": [
        "test = test[np.argsort(test[:, 0])]"
      ],
      "execution_count": null,
      "outputs": []
    },
    {
      "cell_type": "code",
      "metadata": {
        "id": "wqEadIN0VUTT"
      },
      "source": [
        "x_train = train[:,1:]\n",
        "y_train = train[:,:1]\n",
        "\n",
        "x_n_test = test[:,1:]\n",
        "y_n_test = test[:,:1]"
      ],
      "execution_count": null,
      "outputs": []
    },
    {
      "cell_type": "code",
      "metadata": {
        "colab": {
          "base_uri": "https://localhost:8080/"
        },
        "id": "vqA51rDQZdrV",
        "outputId": "f458ad5f-d9fd-4395-ac0c-0181ce497a01"
      },
      "source": [
        "digit = []\n",
        "for j in range(10):\n",
        "  temp = 0\n",
        "  for i in range(9999):\n",
        "    if test[i][0] == j:\n",
        "      temp = temp + 1\n",
        "  print('the',j,'digit occures',temp,'times')\n",
        "  digit.append(temp)"
      ],
      "execution_count": null,
      "outputs": [
        {
          "output_type": "stream",
          "text": [
            "the 0 digit occures 980 times\n",
            "the 1 digit occures 1135 times\n",
            "the 2 digit occures 1032 times\n",
            "the 3 digit occures 1010 times\n",
            "the 4 digit occures 982 times\n",
            "the 5 digit occures 892 times\n",
            "the 6 digit occures 958 times\n",
            "the 7 digit occures 1027 times\n",
            "the 8 digit occures 974 times\n",
            "the 9 digit occures 1009 times\n"
          ],
          "name": "stdout"
        }
      ]
    },
    {
      "cell_type": "markdown",
      "metadata": {
        "id": "zqjzC73lB0_9"
      },
      "source": [
        "**Customizing The Data**\n",
        "\n",
        "1.   spliting the dataset into all diffrent digits\n",
        "2.   and then further spliting it into y_test and x_test\n",
        "\n"
      ]
    },
    {
      "cell_type": "code",
      "metadata": {
        "id": "maPWPeE3fA1D"
      },
      "source": [
        "test_0 = test[:980,:]\n",
        "test_1 = test[980:2115,:]\n",
        "test_2 = test[2155:3147,:]\n",
        "test_3 = test[3147:4157,:]\n",
        "test_4 = test[4157:5139,:]\n",
        "test_5 = test[5139:6031,:]\n",
        "test_6 = test[6031:6989,:]\n",
        "test_7 = test[6989:8016,:]\n",
        "test_8 = test[8016:8990,:]\n",
        "test_9 = test[8990:,:]"
      ],
      "execution_count": null,
      "outputs": []
    },
    {
      "cell_type": "code",
      "metadata": {
        "id": "eOZE10IDTKg-"
      },
      "source": [
        "x_test_0 = test_0[:,1:]\n",
        "y_test_0 = test_0[:,:1]\n",
        "  \n",
        "x_test_1 = test_1[:,1:]\n",
        "y_test_1 = test_1[:,:1]\n",
        "\n",
        "\n",
        "x_test_2 = test_2[:,1:]\n",
        "y_test_2 = test_2[:,:1]\n",
        "\n",
        "x_test_3 = test_3[:,1:]\n",
        "y_test_3 = test_3[:,:1]\n",
        "\n",
        "x_test_4 = test_4[:,1:]\n",
        "y_test_4 = test_4[:,:1]\n",
        "\n",
        "x_test_5 = test_5[:,1:]\n",
        "y_test_5 = test_5[:,:1]\n",
        "\n",
        "x_test_6 = test_6[:,1:]\n",
        "y_test_6 = test_6[:,:1]\n",
        "\n",
        "x_test_7 = test_7[:,1:]\n",
        "y_test_7 = test_7[:,:1]\n",
        "\n",
        "x_test_8 = test_8[:,1:]\n",
        "y_test_8 = test_8[:,:1]\n",
        "\n",
        "x_test_9 = test_9[:,1:]\n",
        "y_test_9 = test_9[:,:1]  "
      ],
      "execution_count": null,
      "outputs": []
    },
    {
      "cell_type": "code",
      "metadata": {
        "colab": {
          "base_uri": "https://localhost:8080/"
        },
        "id": "G7G3hjeidPF_",
        "outputId": "3e056d08-b14e-4287-9473-220812aae588"
      },
      "source": [
        "print(x_train.shape,x_test.shape)\n",
        "print(y_train.shape,y_test.shape)"
      ],
      "execution_count": null,
      "outputs": [
        {
          "output_type": "stream",
          "text": [
            "(19999, 784) (9999, 784)\n",
            "(19999, 1) (9999, 1)\n"
          ],
          "name": "stdout"
        }
      ]
    },
    {
      "cell_type": "markdown",
      "metadata": {
        "id": "878zH2KkCRu0"
      },
      "source": [
        "# Implementing k-nearest neighbors Algorithm"
      ]
    },
    {
      "cell_type": "markdown",
      "metadata": {
        "id": "BTPRJGr9Cg2A"
      },
      "source": [
        "the function to caluclate the sum of euclidean distace from all the training logs"
      ]
    },
    {
      "cell_type": "code",
      "metadata": {
        "id": "5TEeh8QNbkfx"
      },
      "source": [
        "# calculating euclidean distance\n",
        "def dist(x,y):\n",
        "    temp = np.sqrt(np.sum((x-y)**2))   \n",
        "    return temp"
      ],
      "execution_count": null,
      "outputs": []
    },
    {
      "cell_type": "code",
      "metadata": {
        "id": "luk214slhGW0"
      },
      "source": [
        "# defing the main preiction array to store all the prediction of digit done by individual function call\n",
        "y_pred = np.array([10]*9999)"
      ],
      "execution_count": null,
      "outputs": []
    },
    {
      "cell_type": "markdown",
      "metadata": {
        "id": "QTrEBp6ODBJo"
      },
      "source": [
        "THE MAIN FUNCTION BEGINS FROM HERE\n",
        "\n",
        "*   This will take indi\n",
        "*   List item\n",
        "\n"
      ]
    },
    {
      "cell_type": "code",
      "metadata": {
        "id": "QXQxljCHhGTa"
      },
      "source": [
        "def The_Main_Function (k,x_test,y_test,number_of_digit,digit):\n",
        "\n",
        "  no_of_correctly_predicted_digits = 0\n",
        "\n",
        "  for i in range(number_of_digit):\n",
        "    \n",
        "    knn_values = []\n",
        "    euclidean_distace = []\n",
        "\n",
        "\n",
        "    for j in range(19999):\n",
        "      temp = dist(x_train[j],x_test[i])\n",
        "      euclidean_distace.append([temp,j])\n",
        "\n",
        "    euclidean_distace.sort()\n",
        "\n",
        "    # taking the k nearest data points\n",
        "    for m in range(k):\n",
        "      p = euclidean_distace[m][1]\n",
        "      \n",
        "      l = y_train[p]\n",
        "      lw = int(l)\n",
        "      knn_values.append(lw)\n",
        "\n",
        "    y_pred[i] = max(set(knn_values), key=knn_values.count)\n",
        "    \n",
        "    \n",
        "    if y_pred[i] == digit:\n",
        "      no_of_correctly_predicted_digits += 1\n",
        "\n",
        "\n",
        "  print('for',digit,'\\n',no_of_correctly_predicted_digits,'out of ',number_of_digit,'are correctly predicted')\n",
        "  print('accuracy is',no_of_correctly_predicted_digits/number_of_digit*100,'%')\n"
      ],
      "execution_count": null,
      "outputs": []
    },
    {
      "cell_type": "code",
      "metadata": {
        "id": "lfajxon4nRWr"
      },
      "source": [
        "The_Main_Function(3,x_test_0,y_test_0,digit[0],0)"
      ],
      "execution_count": null,
      "outputs": []
    },
    {
      "cell_type": "code",
      "metadata": {
        "id": "7QqZ49xmnRTj"
      },
      "source": [
        "The_Main_Function(3,x_test_1,y_test_1,digit[1],1)"
      ],
      "execution_count": null,
      "outputs": []
    },
    {
      "cell_type": "code",
      "metadata": {
        "id": "I8ZWorPbnRRn"
      },
      "source": [
        "The_Main_Function(3,x_test_2,y_test_2,digit[2],2)"
      ],
      "execution_count": null,
      "outputs": []
    },
    {
      "cell_type": "code",
      "metadata": {
        "id": "RK5YLx1snRPn"
      },
      "source": [
        "The_Main_Function(3,x_test_3,y_test_3,digit[3],3)"
      ],
      "execution_count": null,
      "outputs": []
    },
    {
      "cell_type": "code",
      "metadata": {
        "id": "PJZu6ulrnRNP"
      },
      "source": [
        "The_Main_Function(3,x_test_4,y_test_4,digit[4],4)"
      ],
      "execution_count": null,
      "outputs": []
    },
    {
      "cell_type": "code",
      "metadata": {
        "id": "oCaQc4gLomXc"
      },
      "source": [
        " The_Main_Function(3,x_test_5,y_test_5,digit[5],5)"
      ],
      "execution_count": null,
      "outputs": []
    },
    {
      "cell_type": "code",
      "metadata": {
        "id": "C1-xvKvYomUA"
      },
      "source": [
        "The_Main_Function(3,x_test_6,y_test_6,digit[6],6)"
      ],
      "execution_count": null,
      "outputs": []
    },
    {
      "cell_type": "code",
      "metadata": {
        "id": "c48pSUXSomR5"
      },
      "source": [
        "The_Main_Function(3,x_test_7,y_test_7,digit[7],7)"
      ],
      "execution_count": null,
      "outputs": []
    },
    {
      "cell_type": "code",
      "metadata": {
        "id": "znrHY-dool5R"
      },
      "source": [
        "The_Main_Function(3,x_test_8,y_test_8,digit[8],8)"
      ],
      "execution_count": null,
      "outputs": []
    },
    {
      "cell_type": "code",
      "metadata": {
        "id": "TbuxRIg_ooMR"
      },
      "source": [
        "The_Main_Function(3,x_test_9,y_test_9,digit[9],9)"
      ],
      "execution_count": null,
      "outputs": []
    }
  ]
}