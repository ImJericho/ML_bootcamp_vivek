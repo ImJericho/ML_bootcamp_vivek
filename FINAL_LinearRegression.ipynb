{
  "nbformat": 4,
  "nbformat_minor": 0,
  "metadata": {
    "colab": {
      "name": "FINAL_LinearRegression.ipynb",
      "provenance": [],
      "collapsed_sections": [],
      "toc_visible": true,
      "authorship_tag": "ABX9TyPGqIkzfG1omzNb66FVl8+p",
      "include_colab_link": true
    },
    "kernelspec": {
      "display_name": "Python 3",
      "name": "python3"
    }
  },
  "cells": [
    {
      "cell_type": "markdown",
      "metadata": {
        "id": "view-in-github",
        "colab_type": "text"
      },
      "source": [
        "<a href=\"https://colab.research.google.com/github/vivekpatidar1413/ML_bootcamp_vivek/blob/Linear-Regression/FINAL_LinearRegression.ipynb\" target=\"_parent\"><img src=\"https://colab.research.google.com/assets/colab-badge.svg\" alt=\"Open In Colab\"/></a>"
      ]
    },
    {
      "cell_type": "markdown",
      "metadata": {
        "id": "zThzm0EfRCCm"
      },
      "source": [
        "# Upload the MNIST datasets\n"
      ]
    },
    {
      "cell_type": "code",
      "metadata": {
        "id": "0iK7yZKVP6mJ"
      },
      "source": [
        "import numpy as np\n",
        "import pandas as pd\n",
        "import matplotlib.pyplot as plt"
      ],
      "execution_count": 29,
      "outputs": []
    },
    {
      "cell_type": "markdown",
      "metadata": {
        "id": "dDZIAngEdVuA"
      },
      "source": [
        "taking the mnist dataset in pandas dataframe"
      ]
    },
    {
      "cell_type": "code",
      "metadata": {
        "id": "FBUH6qQCgzvu"
      },
      "source": [
        "train_df = pd.read_csv(\"/content/sample_data/mnist_train_small.csv\")\n",
        "test_df  = pd.read_csv(\"/content/sample_data/mnist_test.csv\")"
      ],
      "execution_count": 6,
      "outputs": []
    },
    {
      "cell_type": "code",
      "metadata": {
        "id": "42Re_lszhHU5"
      },
      "source": [
        "# converting the panadas dataframe into numpy array\n",
        "\n",
        "train = train_df.to_numpy()\n",
        "test = test_df.to_numpy()"
      ],
      "execution_count": 30,
      "outputs": []
    },
    {
      "cell_type": "markdown",
      "metadata": {
        "id": "wflq-n7Xs_i0"
      },
      "source": [
        "Splitting the dataset into 'labels' as 'y' and 'features' as 'x'"
      ]
    },
    {
      "cell_type": "code",
      "metadata": {
        "id": "W8hPhLRMhoLn"
      },
      "source": [
        "y_train = train[:,:1]\n",
        "x_train = train[:,1:]\n",
        "\n",
        "y_test = test[:,:1]\n",
        "x_test = test[:,1:]"
      ],
      "execution_count": 8,
      "outputs": []
    },
    {
      "cell_type": "code",
      "metadata": {
        "colab": {
          "base_uri": "https://localhost:8080/"
        },
        "id": "ekGsi8zhiqjK",
        "outputId": "9cfaa968-ea1a-4256-aa2a-7b419b0e1fd8"
      },
      "source": [
        "print(x_train.shape,y_train.shape)\n",
        "print(x_test.shape,y_test.shape)"
      ],
      "execution_count": 9,
      "outputs": [
        {
          "output_type": "stream",
          "text": [
            "(19999, 784) (19999, 1)\n",
            "(9999, 784) (9999, 1)\n"
          ],
          "name": "stdout"
        }
      ]
    },
    {
      "cell_type": "markdown",
      "metadata": {
        "id": "IniJRQdOtNNL"
      },
      "source": [
        "checking the number of training examples for each lable of digit"
      ]
    },
    {
      "cell_type": "code",
      "metadata": {
        "id": "itFucbFJU5Bk",
        "colab": {
          "base_uri": "https://localhost:8080/"
        },
        "outputId": "c72687a0-457f-4e45-b7d4-f6420707ef05"
      },
      "source": [
        "for j in range(10):\n",
        "  temp = 0\n",
        "  for i in range(19999):\n",
        "    if y_train[i] == j:\n",
        "      temp = temp + 1\n",
        "  print('the',j,'digit occures',temp,'times')\n"
      ],
      "execution_count": 31,
      "outputs": [
        {
          "output_type": "stream",
          "text": [
            "the 0 digit occures 1962 times\n",
            "the 1 digit occures 2243 times\n",
            "the 2 digit occures 1989 times\n",
            "the 3 digit occures 2021 times\n",
            "the 4 digit occures 1924 times\n",
            "the 5 digit occures 1761 times\n",
            "the 6 digit occures 2038 times\n",
            "the 7 digit occures 2126 times\n",
            "the 8 digit occures 1912 times\n",
            "the 9 digit occures 2023 times\n"
          ],
          "name": "stdout"
        }
      ]
    },
    {
      "cell_type": "markdown",
      "metadata": {
        "id": "AmHTAtc_uAYf"
      },
      "source": [
        "# Visualizing the dataset"
      ]
    },
    {
      "cell_type": "code",
      "metadata": {
        "colab": {
          "base_uri": "https://localhost:8080/",
          "height": 281
        },
        "id": "m4tX6ueRuFkp",
        "outputId": "38625996-725b-4b99-82db-89a1f9bf999c"
      },
      "source": [
        "# Reshape the array into 28 x 28 array (2-dimensional array)\n",
        "index =12\n",
        "pixels = x_train[index].reshape((28, 28))\n",
        "\n",
        "# Plot\n",
        "plt.title('Label is'+str(y_train[index]))\n",
        "plt.imshow(pixels, cmap='gray')\n",
        "plt.show()"
      ],
      "execution_count": 37,
      "outputs": [
        {
          "output_type": "display_data",
          "data": {
            "image/png": "[encoded data removed]",
            "text/plain": [
              "<Figure size 432x288 with 1 Axes>"
            ]
          },
          "metadata": {
            "tags": [],
            "needs_background": "light"
          }
        }
      ]
    },
    {
      "cell_type": "markdown",
      "metadata": {
        "id": "UnT5CBwodh-T"
      },
      "source": [
        "# Data Processing"
      ]
    },
    {
      "cell_type": "code",
      "metadata": {
        "id": "PSzJnjqr7tJX"
      },
      "source": [
        "# adding the '1' on the starting of each array rows\n",
        "\n",
        "x_n_train = np.zeros((19999,785))\n",
        "\n",
        "for i in range(19999):\n",
        "    x_n_train[i] = np.insert(x_train[i],0,1)\n",
        "\n",
        "x_n_train = x_n_train/255"
      ],
      "execution_count": 47,
      "outputs": []
    },
    {
      "cell_type": "code",
      "metadata": {
        "colab": {
          "base_uri": "https://localhost:8080/"
        },
        "id": "O6p3Eg8uBdpC",
        "outputId": "673e1672-d20a-48ab-dd61-75170d27f15b"
      },
      "source": [
        "print(x_n_train.shape)"
      ],
      "execution_count": 48,
      "outputs": [
        {
          "output_type": "stream",
          "text": [
            "(19999, 785)\n"
          ],
          "name": "stdout"
        }
      ]
    },
    {
      "cell_type": "markdown",
      "metadata": {
        "id": "bON_aX29F8Y5"
      },
      "source": [
        "# The Main Function"
      ]
    },
    {
      "cell_type": "markdown",
      "metadata": {
        "id": "RYwWsN2GgwOA"
      },
      "source": [
        "The Main Linear Regression Function Starts from here"
      ]
    },
    {
      "cell_type": "code",
      "metadata": {
        "id": "TSPtq0DCzvTz"
      },
      "source": [
        "''' the Q  here is parameter here (THEETA)'''\n",
        "\n",
        "Q = np.random.randn(1,785)"
      ],
      "execution_count": 49,
      "outputs": []
    },
    {
      "cell_type": "code",
      "metadata": {
        "id": "F1PIFIHwWrOv"
      },
      "source": [
        "# definging some useful values\n",
        "\n",
        "itrations = 50000\n",
        "alpha = 0.05\n",
        "m =19999\n",
        "cost_function = []"
      ],
      "execution_count": 50,
      "outputs": []
    },
    {
      "cell_type": "code",
      "metadata": {
        "id": "aDjlc4eeCemM"
      },
      "source": [
        "X = x_n_train.T\n",
        "Y = y_train.T"
      ],
      "execution_count": 51,
      "outputs": []
    },
    {
      "cell_type": "code",
      "metadata": {
        "colab": {
          "base_uri": "https://localhost:8080/"
        },
        "id": "szjoDcUBRy6b",
        "outputId": "ca39a416-372d-4205-9ee0-55b466fccf1e"
      },
      "source": [
        "for i in range(1,itrations+1):\n",
        "\n",
        "  #PREDICTIONS\n",
        "  hypothesis = np.dot(Q,X)  \n",
        "\n",
        "  # COST FUNCTION                            \n",
        "  j = 1/(2*m)*np.sum((hypothesis-Y)**2)\n",
        "  cost_function.append(j)\n",
        "\n",
        "\n",
        "  # GRADIENT DESCENT\n",
        "  dw =  1/m * np.dot(hypothesis-Y,X.T)\n",
        "  Q = Q - alpha*dw\n",
        "      \n",
        "\n",
        "  # printing the cost function which shows the degressing nature \n",
        "  if i%5000 == 0:\n",
        "    print(i, 'th iteration, Cost Function =',j)\n",
        "\n",
        "\n",
        "  # logic to break the loop if the change in cost is very very low \n",
        "  # ie. which sigifies that our parameters are rechead to give the minimum lavel of cost function\n",
        "\n",
        "  if i%2 == 0:\n",
        "      if abs(j-cost_function[-2])<0.000001:\n",
        "        if abs(j-cost_function[-3])<0.000001:\n",
        "          print('the last itration was ',i,'th','and the final cost function is ',j)\n",
        "          break "
      ],
      "execution_count": 52,
      "outputs": [
        {
          "output_type": "stream",
          "text": [
            "5000 th iteration, Cost Function = 1.907491359455398\n",
            "10000 th iteration, Cost Function = 1.8530785689178375\n",
            "15000 th iteration, Cost Function = 1.837599896804272\n",
            "20000 th iteration, Cost Function = 1.8300714061720498\n",
            "25000 th iteration, Cost Function = 1.8254547906233693\n",
            "30000 th iteration, Cost Function = 1.8222644844360654\n",
            "the last itration was  31454 th and the final cost function is  1.8215070244278082\n"
          ],
          "name": "stdout"
        }
      ]
    },
    {
      "cell_type": "code",
      "metadata": {
        "colab": {
          "base_uri": "https://localhost:8080/"
        },
        "id": "7lZZN-hpYejQ",
        "outputId": "20e7faff-7356-4277-d20d-61065284c5e9"
      },
      "source": [
        "# hypothesis = hypothesis.astype(int)\n",
        "print(type(hypothesis),hypothesis.shape)\n",
        "print(hypothesis)"
      ],
      "execution_count": 53,
      "outputs": [
        {
          "output_type": "stream",
          "text": [
            "<class 'numpy.ndarray'> (1, 19999)\n",
            "[[5.29224837 2.39935706 8.25798228 ... 3.2150219  6.9363307  4.89634861]]\n"
          ],
          "name": "stdout"
        }
      ]
    },
    {
      "cell_type": "markdown",
      "metadata": {
        "id": "fiVSqY2lhQYf"
      },
      "source": [
        "Graph between Cost function vs no. of iteration"
      ]
    },
    {
      "cell_type": "code",
      "metadata": {
        "colab": {
          "base_uri": "https://localhost:8080/",
          "height": 265
        },
        "id": "549HqnK5Ww_D",
        "outputId": "dbcc0352-993b-48a2-ffad-c183ab60d271"
      },
      "source": [
        "# this graph shows the decreasing nature of cost function\n",
        "\n",
        "plt.plot(cost_function)\n",
        "plt.show()"
      ],
      "execution_count": 54,
      "outputs": [
        {
          "output_type": "display_data",
          "data": {
            "image/png": "[encoded data removed]",
            "text/plain": [
              "<Figure size 432x288 with 1 Axes>"
            ]
          },
          "metadata": {
            "tags": [],
            "needs_background": "light"
          }
        }
      ]
    },
    {
      "cell_type": "markdown",
      "metadata": {
        "id": "QCLPNinWc5HO"
      },
      "source": [
        "# Testing"
      ]
    },
    {
      "cell_type": "code",
      "metadata": {
        "id": "IRPrJGBUMZbQ"
      },
      "source": [
        "y_pred = hypothesis.round()\n",
        "y_n_pred = y_pred.astype(int)\n",
        "\n",
        "for i in range(19999):\n",
        "  if y_n_pred[0][i] < 0 :\n",
        "    y_n_pred[0][i] = 0\n",
        "  elif y_n_pred[0][i] >=10:\n",
        "    y_n_pred[0][i] = 9"
      ],
      "execution_count": 55,
      "outputs": []
    },
    {
      "cell_type": "code",
      "metadata": {
        "colab": {
          "base_uri": "https://localhost:8080/"
        },
        "id": "K0ZCP8WFPtt1",
        "outputId": "9d2bcc6d-22df-4bed-fe4e-b3d5f37cae6b"
      },
      "source": [
        "k = 0\n",
        "for i in range(19999):\n",
        "  # print(hypothesis[0][i],y_train[i])\n",
        "  if y_pred[0][i] == y_train[i]:\n",
        "    k = k+1\n",
        "print(k,'is the number of corect prediction','the accurecy is ',k/199.99,'%')"
      ],
      "execution_count": 58,
      "outputs": [
        {
          "output_type": "stream",
          "text": [
            "4961 is the number of corect prediction the accurecy is  24.8062403120156 %\n"
          ],
          "name": "stdout"
        }
      ]
    },
    {
      "cell_type": "markdown",
      "metadata": {
        "id": "mh3KqIKTy7PM"
      },
      "source": [
        "Testing on the defined testing labels"
      ]
    },
    {
      "cell_type": "code",
      "metadata": {
        "id": "JvZ9RNFulk4r"
      },
      "source": [
        "x_n_test = np.random.randn(9999,785)\n",
        "\n",
        "for i in range(9999):\n",
        "    x_n_test[i] = np.insert(x_train[i],0,1)\n",
        "\n",
        "x_n_test = x_n_test/255"
      ],
      "execution_count": 59,
      "outputs": []
    },
    {
      "cell_type": "code",
      "metadata": {
        "id": "Upfm_KY_kz16"
      },
      "source": [
        "y_test_pred = np.dot(Q,x_n_test.T)"
      ],
      "execution_count": 60,
      "outputs": []
    },
    {
      "cell_type": "code",
      "metadata": {
        "id": "Q0TmMY4ol7b7"
      },
      "source": [
        "y_test_pred = y_test_pred.astype(int)"
      ],
      "execution_count": 61,
      "outputs": []
    },
    {
      "cell_type": "code",
      "metadata": {
        "colab": {
          "base_uri": "https://localhost:8080/"
        },
        "id": "REatbBj9mZFn",
        "outputId": "b50500ec-f819-4a39-acb0-318176537447"
      },
      "source": [
        "no_of_correct_predictions = 0\n",
        "for i in range(9999):\n",
        "  if y_test_pred[0][i] == y_test[i]:\n",
        "    no_of_correct_predictions += 1\n",
        "\n",
        "print(no_of_correct_predictions,'is the number of corect prediction','the accurecy is ',no_of_correct_predictions/99.99,'%')"
      ],
      "execution_count": 62,
      "outputs": [
        {
          "output_type": "stream",
          "text": [
            "932 is the number of corect prediction the accurecy is  9.320932093209322 %\n"
          ],
          "name": "stdout"
        }
      ]
    },
    {
      "cell_type": "markdown",
      "metadata": {
        "id": "EqV1ZUvRoxIc"
      },
      "source": [
        "# Accuracy Using Sklearn\n"
      ]
    },
    {
      "cell_type": "code",
      "metadata": {
        "colab": {
          "base_uri": "https://localhost:8080/"
        },
        "id": "teCeL0M-owHP",
        "outputId": "d6bc76cf-e581-43a0-97cf-62dd6158fe06"
      },
      "source": [
        "from sklearn.linear_model import LinearRegression\n",
        "from sklearn.metrics import accuracy_score\n",
        "\n",
        "reg = LinearRegression()\n",
        "reg.fit(x_train,y_train)\n",
        "\n",
        "y_pred = reg.predict(x_test)\n",
        "\n",
        "y_pred = y_pred.astype(int)\n",
        "\n",
        "accuracy = accuracy_score(y_pred,y_test)\n",
        "\n",
        "print('accuracy of the model using sklearn is',accuracy*100,'%')"
      ],
      "execution_count": 63,
      "outputs": [
        {
          "output_type": "stream",
          "text": [
            "accuracy of the model using sklearn is 25.16251625162516 %\n"
          ],
          "name": "stdout"
        }
      ]
    }
  ]
}