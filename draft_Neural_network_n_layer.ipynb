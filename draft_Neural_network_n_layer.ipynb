{
  "nbformat": 4,
  "nbformat_minor": 0,
  "metadata": {
    "colab": {
      "name": "draft_Neural_network_n_layer.ipynb",
      "provenance": [],
      "collapsed_sections": [],
      "toc_visible": true,
      "authorship_tag": "ABX9TyOPNCIJkX+u948S0O+0UDKF",
      "include_colab_link": true
    },
    "kernelspec": {
      "display_name": "Python 3",
      "name": "python3"
    },
    "language_info": {
      "name": "python"
    }
  },
  "cells": [
    {
      "cell_type": "markdown",
      "metadata": {
        "id": "view-in-github",
        "colab_type": "text"
      },
      "source": [
        "<a href=\"https://colab.research.google.com/github/vivekpatidar1413/ML_bootcamp_vivek/blob/Neural-Network/draft_Neural_network_n_layer.ipynb\" target=\"_parent\"><img src=\"https://colab.research.google.com/assets/colab-badge.svg\" alt=\"Open In Colab\"/></a>"
      ]
    },
    {
      "cell_type": "code",
      "metadata": {
        "id": "dxxjIvTXTB7h"
      },
      "source": [
        "import numpy as np\n",
        "import pandas as pd\n",
        "import matplotlib.pyplot as plt\n",
        "import math"
      ],
      "execution_count": null,
      "outputs": []
    },
    {
      "cell_type": "code",
      "metadata": {
        "id": "QvP6jcOcdTKh"
      },
      "source": [
        "train_df = pd.read_csv(\"/content/sample_data/mnist_train_small.csv\")\n",
        "test_df  = pd.read_csv(\"/content/sample_data/mnist_test.csv\")"
      ],
      "execution_count": null,
      "outputs": []
    },
    {
      "cell_type": "code",
      "metadata": {
        "id": "e42ip0LpTU3v"
      },
      "source": [
        "train = train_df.to_numpy()\n",
        "test  = test_df.to_numpy()"
      ],
      "execution_count": null,
      "outputs": []
    },
    {
      "cell_type": "code",
      "metadata": {
        "id": "IkMig0i3TiHk"
      },
      "source": [
        "# splitting the dataset into 'lables' as y and 'feature (784pixels) as x'\n",
        "x_train = train[:,1:]/255\n",
        "y_train = train[:,:1]\n",
        "\n",
        "x_test = test[:,1:]/255\n",
        "y_test = test[:,:1]"
      ],
      "execution_count": null,
      "outputs": []
    },
    {
      "cell_type": "code",
      "metadata": {
        "id": "8ClySzhG8bWL"
      },
      "source": [
        "#converting train_label in one hot encoder representation \n",
        "\n",
        "y_n_train=np.zeros((19999,10))\n",
        "\n",
        "for i in range(19999):\n",
        "  for j in range(10):\n",
        "    if y_train[i] == j:\n",
        "      y_n_train[i,j] = 1"
      ],
      "execution_count": null,
      "outputs": []
    },
    {
      "cell_type": "code",
      "metadata": {
        "id": "HZNlcfH2_ayA"
      },
      "source": [
        "y_n_test=np.zeros((9999,10))\n",
        "\n",
        "for i in range(9999):\n",
        "  for j in range(10):\n",
        "    if y_test[i] == j:\n",
        "      y_n_test[i,j] = 1"
      ],
      "execution_count": null,
      "outputs": []
    },
    {
      "cell_type": "code",
      "metadata": {
        "colab": {
          "base_uri": "https://localhost:8080/"
        },
        "id": "Ko_DgA5qfX16",
        "outputId": "3fac9103-0216-4102-bc31-ad6d6f1779ba"
      },
      "source": [
        "lst = []\n",
        "\n",
        "count = int(input())\n",
        "\n",
        "for i in range(count):\n",
        "  lst.append(int(input()))"
      ],
      "execution_count": null,
      "outputs": [
        {
          "output_type": "stream",
          "text": [
            "1\n",
            "2\n"
          ],
          "name": "stdout"
        }
      ]
    },
    {
      "cell_type": "code",
      "metadata": {
        "id": "8FAsKRW7HlVJ"
      },
      "source": [
        "#defining archtecture of neural network\n",
        "\n",
        "layer = lst      # layer inputs\n",
        "len_update=len(layer)"
      ],
      "execution_count": null,
      "outputs": []
    },
    {
      "cell_type": "code",
      "metadata": {
        "id": "gch3Nj9yGiw_"
      },
      "source": [
        "def initialize_parameters(layer_dims):\n",
        "    #np.random.seed(1)\n",
        "    parameters = {}\n",
        "    L = len(layer_dims)            # number of layers in the network\n",
        "    \n",
        "    for l in range(1, L):\n",
        "        parameters['W' + str(l)] = np.random.randn(layer_dims[l], layer_dims[l-1]) / np.sqrt(layer_dims[l-1]) #*0.01\n",
        "       \n",
        "    \n",
        "    return parameters"
      ],
      "execution_count": null,
      "outputs": []
    },
    {
      "cell_type": "code",
      "metadata": {
        "id": "Ci0J9PUNGCiO"
      },
      "source": [
        "#activation functions sigmoid and \n",
        "\n",
        "def sigmoid(Z):\n",
        "    A = 1/(1+np.exp(-Z))\n",
        "    \n",
        "    return A\n",
        "\n",
        "def softmax(Z):\n",
        "    e_x = np.exp(Z)\n",
        "    A= e_x / np.sum(np.exp(Z))  \n",
        "    \n",
        "    return A   "
      ],
      "execution_count": null,
      "outputs": []
    },
    {
      "cell_type": "code",
      "metadata": {
        "id": "aameaCQZGyZN"
      },
      "source": [
        "#cost function\n",
        "def compute_cost(AL, Y):\n",
        "    \n",
        "    m = Y.shape[1]\n",
        "    cost = (-1 / m) * np.sum(np.multiply(Y, np.log(AL)) + np.multiply(1 - Y, np.log(1 - AL)))\n",
        "   \n",
        "    return cost"
      ],
      "execution_count": null,
      "outputs": []
    },
    {
      "cell_type": "code",
      "metadata": {
        "id": "geVK8_rGGly_"
      },
      "source": [
        "#forward propagation\n",
        "\n",
        "def forward_prop(X, parameters):\n",
        "    \n",
        "    A = X\n",
        "    L = len(parameters)                # number of layers in the neural network\n",
        "    \n",
        "    for l in range(1, L):\n",
        "        A_prev = A \n",
        "        temp= activation(A_prev, parameters['W' + str(l)])\n",
        "        \n",
        "\n",
        "    AL = activation(A, parameters['W' + str(L)])\n",
        "                \n",
        "    return AL\n",
        "\n",
        "def activation(A, W):\n",
        "        Z = np.dot(W,A) \n",
        "\n",
        "    return A"
      ],
      "execution_count": null,
      "outputs": []
    },
    {
      "cell_type": "code",
      "metadata": {
        "id": "b2RUjPzuG2kH"
      },
      "source": [
        "#backward propagation\n",
        "\n",
        "def back_prop(AL, Y):\n",
        "\n",
        "    # THE CODE WAS NOT PREPARED BY ME YET\n",
        "\n",
        "    return delta"
      ],
      "execution_count": null,
      "outputs": []
    },
    {
      "cell_type": "code",
      "metadata": {
        "id": "yiO5h617Hh_H"
      },
      "source": [
        "#upgrade function for weights and bias\n",
        "def update_parameters(parameters, delta, alpha):\n",
        "  \n",
        "    for l in range(len_update-1):\n",
        "        parameters[\"W\"] =parameters[\"W\" ] - (alpha*delta[\"dW\"])\n",
        "       \n",
        "    return parameters"
      ],
      "execution_count": null,
      "outputs": []
    },
    {
      "cell_type": "code",
      "metadata": {
        "id": "yz-SjG47Ht4c"
      },
      "source": [
        "def THE_MAIN_FUNCTION(X, Y, layer, alpha , iterations):\n",
        "    print(\"training...\")\n",
        "    costs = []  \n",
        "\n",
        "    parameters = initialize_parameters(layer)\n",
        "\n",
        "    for i in range(iterations):\n",
        "\n",
        "        AL= forward_prop(X, parameters)\n",
        "\n",
        "        cost =compute_cost(AL, Y)\n",
        "\n",
        "        delta = back_prop(AL, Y)\n",
        "\n",
        "        parameters = update_parameters(parameters, delta, alpha) \n",
        "        \n",
        "        if i%5 == 0:\n",
        "          print('the cost after',i,'iteration is',cost)\n",
        "    \n",
        "    return parameters"
      ],
      "execution_count": null,
      "outputs": []
    },
    {
      "cell_type": "code",
      "metadata": {
        "id": "hVIMN1LMHz4X"
      },
      "source": [
        "#variable parameter in network alpha, iterationd \n",
        "parameters = THE MAIN FUNCTION(x_train.T, y_n_train.T, layer,alpha = 0.0005, iterations =35) \n"
      ],
      "execution_count": null,
      "outputs": []
    },
    {
      "cell_type": "code",
      "metadata": {
        "id": "TtXIfqFWH2Fk"
      },
      "source": [
        ""
      ],
      "execution_count": null,
      "outputs": []
    }
  ]
}