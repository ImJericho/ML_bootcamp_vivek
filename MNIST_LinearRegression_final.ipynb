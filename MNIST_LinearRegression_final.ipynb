{
  "nbformat": 4,
  "nbformat_minor": 0,
  "metadata": {
    "colab": {
      "name": "MNIST_LinearRegression_final.ipynb",
      "provenance": [],
      "authorship_tag": "ABX9TyN3GMRtSCCsCFDbuiXQ19C2",
      "include_colab_link": true
    },
    "kernelspec": {
      "name": "python3",
      "display_name": "Python 3"
    }
  },
  "cells": [
    {
      "cell_type": "markdown",
      "metadata": {
        "id": "view-in-github",
        "colab_type": "text"
      },
      "source": [
        "<a href=\"https://colab.research.google.com/github/vivekpatidar1413/ML_bootcamp_vivek/blob/Linear-Regression/MNIST_LinearRegression_final.ipynb\" target=\"_parent\"><img src=\"https://colab.research.google.com/assets/colab-badge.svg\" alt=\"Open In Colab\"/></a>"
      ]
    },
    {
      "cell_type": "markdown",
      "metadata": {
        "id": "zThzm0EfRCCm"
      },
      "source": [
        "# Loading MNIST data"
      ]
    },
    {
      "cell_type": "code",
      "metadata": {
        "id": "0iK7yZKVP6mJ"
      },
      "source": [
        "import numpy as np\r\n",
        "import sklearn\r\n",
        "import matplotlib.pyplot as plt"
      ],
      "execution_count": 2,
      "outputs": []
    },
    {
      "cell_type": "code",
      "metadata": {
        "id": "E1c-cIo6QOgn"
      },
      "source": [
        "from sklearn.datasets import fetch_openml\r\n",
        "mnist = fetch_openml('mnist_784')"
      ],
      "execution_count": 4,
      "outputs": []
    },
    {
      "cell_type": "code",
      "metadata": {
        "colab": {
          "base_uri": "https://localhost:8080/"
        },
        "id": "4GC1j3AMQe5d",
        "outputId": "8d60a1a4-fcf1-4f2c-f064-873982246a3c"
      },
      "source": [
        "x = mnist['data']\r\n",
        "y = mnist['target']\r\n",
        "print(x.shape)\r\n",
        "print(y.shape)"
      ],
      "execution_count": 5,
      "outputs": [
        {
          "output_type": "stream",
          "text": [
            "(70000, 784)\n",
            "(70000,)\n"
          ],
          "name": "stdout"
        }
      ]
    },
    {
      "cell_type": "code",
      "metadata": {
        "id": "kJWWZH7cQ14M"
      },
      "source": [
        "x_train = x[:600]\r\n",
        "# x_test = x[60000:]\r\n",
        "y_train = y[:600]\r\n",
        "# y_test = y[60000:]"
      ],
      "execution_count": 31,
      "outputs": []
    },
    {
      "cell_type": "code",
      "metadata": {
        "id": "y51cASy8Q6np"
      },
      "source": [
        "y_train = y_train.astype(np.int8)\r\n",
        "y_test = y_test.astype(np.int8)"
      ],
      "execution_count": 32,
      "outputs": []
    },
    {
      "cell_type": "markdown",
      "metadata": {
        "id": "fvxWU-VrRJip"
      },
      "source": [
        "# Training"
      ]
    },
    {
      "cell_type": "code",
      "metadata": {
        "id": "OMb5lt-lQ9mZ"
      },
      "source": [
        "def mult_vector(A,B):\r\n",
        "  for i in range(785):\r\n",
        "    r = A[i]*B[i] \r\n",
        "  \r\n",
        "  return r"
      ],
      "execution_count": 33,
      "outputs": []
    },
    {
      "cell_type": "code",
      "metadata": {
        "colab": {
          "base_uri": "https://localhost:8080/"
        },
        "id": "TqTKo9GMRfmc",
        "outputId": "4ca8ede4-25a7-4803-e396-84293c24c81b"
      },
      "source": [
        "Q = np.array([2]*785)\r\n",
        "print(Q.shape)\r\n",
        "# print(Q)"
      ],
      "execution_count": 34,
      "outputs": [
        {
          "output_type": "stream",
          "text": [
            "(785,)\n"
          ],
          "name": "stdout"
        }
      ]
    },
    {
      "cell_type": "code",
      "metadata": {
        "id": "szjoDcUBRy6b"
      },
      "source": [
        "def main_function(Q,x_train,y_train,alpha,no_of_itration):\r\n",
        "  m = len(x_train)\r\n",
        "\r\n",
        "  y_pred = np.array([1]*600)\r\n",
        "  # xn = x_train\r\n",
        "  J = 1\r\n",
        "  for j in range(no_of_itration):\r\n",
        "\r\n",
        "    for i in range(600):\r\n",
        "      xn = np.insert(x_train[i],0,1)\r\n",
        "      y_pred[i] = mult_vector(Q,xn)\r\n",
        "    \r\n",
        "    x_n_train = np.transpose(xn)\r\n",
        "    J = np.sum((y_pred - y_train)**2/(2*m))\r\n",
        "\r\n",
        "    for i in range(785):\r\n",
        "      Q[i] = Q[i] - alpha*(1/m)*np.sum(x_n_train[i]*(y_pred - y_train))\r\n",
        "  \r\n",
        "    if j%5==0:\r\n",
        "      print(J)\r\n",
        "\r\n",
        "  return Q\r\n"
      ],
      "execution_count": 53,
      "outputs": []
    },
    {
      "cell_type": "code",
      "metadata": {
        "colab": {
          "base_uri": "https://localhost:8080/"
        },
        "id": "BU1v5FYRWfCL",
        "outputId": "d930df52-6297-4de5-ac65-504be889cb4a"
      },
      "source": [
        "Q = main_function(Q,x_train,y_train,0.1,26)\r\n"
      ],
      "execution_count": 54,
      "outputs": [
        {
          "output_type": "stream",
          "text": [
            "13.723333333333333\n",
            "13.723333333333333\n",
            "13.723333333333333\n",
            "13.723333333333333\n",
            "13.723333333333333\n",
            "13.723333333333333\n"
          ],
          "name": "stdout"
        }
      ]
    },
    {
      "cell_type": "code",
      "metadata": {
        "id": "549HqnK5Ww_D"
      },
      "source": [
        ""
      ],
      "execution_count": null,
      "outputs": []
    }
  ]
}