{
  "nbformat": 4,
  "nbformat_minor": 0,
  "metadata": {
    "colab": {
      "name": "House_Price_prediction_Linear_regression_model.ipynb",
      "provenance": [],
      "collapsed_sections": [],
      "authorship_tag": "ABX9TyMw7w0pDoBgkR+T2rfvSC/c",
      "include_colab_link": true
    },
    "kernelspec": {
      "name": "python3",
      "display_name": "Python 3"
    }
  },
  "cells": [
    {
      "cell_type": "markdown",
      "metadata": {
        "id": "view-in-github",
        "colab_type": "text"
      },
      "source": [
        "<a href=\"https://colab.research.google.com/github/vivekpatidar1413/ML_bootcamp_vivek/blob/main/House_Price_prediction_Linear_regression_model.ipynb\" target=\"_parent\"><img src=\"https://colab.research.google.com/assets/colab-badge.svg\" alt=\"Open In Colab\"/></a>"
      ]
    },
    {
      "cell_type": "markdown",
      "metadata": {
        "id": "Aivh9JdqmkbZ"
      },
      "source": [
        "# **Processing Data**"
      ]
    },
    {
      "cell_type": "markdown",
      "metadata": {
        "id": "DbgGjME4myNe"
      },
      "source": [
        "Dataset : Price of House, prize per unit area\r\n",
        "\r\n",
        "Here,\r\n",
        "The data is the array which has\r\n",
        "\r\n",
        "(House Age,number of convenience stores,prize per unit area)\r\n",
        "\r\n",
        "there are 120 example in this dataset\r\n"
      ]
    },
    {
      "cell_type": "code",
      "metadata": {
        "id": "l3Moea9VZT_k"
      },
      "source": [
        "import numpy as np\r\n",
        "import pandas as pd\r\n",
        "import matplotlib.pyplot as plt"
      ],
      "execution_count": 1,
      "outputs": []
    },
    {
      "cell_type": "code",
      "metadata": {
        "id": "LMRhmPnQKycr"
      },
      "source": [
        "'''I have taken this data from my local drive but to show you ,i had copy and pasted it here'''\r\n",
        "\r\n",
        "# df = pd.read_csv('Real estate new.csv',sep = ',',header=None)\r\n",
        "# arr = df.to_numpy()"
      ],
      "execution_count": null,
      "outputs": []
    },
    {
      "cell_type": "code",
      "metadata": {
        "id": "1fQzOCcJkHuK"
      },
      "source": [
        "arr = np.array([ [32. ,10. ,37.9]\r\n",
        "        ,[19.5, 9. ,42.2]\r\n",
        "        ,[13.3, 5. ,47.3]\r\n",
        "        ,[13.3, 5. ,54.8]\r\n",
        "        ,[ 5. , 5. ,43.1]\r\n",
        "        ,[ 7.1, 3. ,32.1]\r\n",
        "        ,[34.5, 7. ,40.3]\r\n",
        "        ,[20.3, 6. ,46.7]\r\n",
        "        ,[31.7, 1. ,18.8]\r\n",
        "        ,[17.9, 3. ,22.1]\r\n",
        "        ,[34.8, 1. ,41.4]\r\n",
        "        ,[ 6.3, 9. ,58.1]\r\n",
        "        ,[13. , 5. ,39.3]\r\n",
        "        ,[20.4, 4. ,23.8]\r\n",
        "        ,[13.2, 4. ,34.3]\r\n",
        "        ,[35.7, 2. ,50.5]\r\n",
        "        ,[ 0.  ,6. ,70.1]\r\n",
        "        ,[17.7 ,1. ,37.4]\r\n",
        "        ,[16.9 ,8. ,42.3]\r\n",
        "        ,[ 1.5 ,7. ,47.7]\r\n",
        "        ,[ 4.5 ,3. ,29.3]\r\n",
        "        ,[10.5 ,7. ,51.6]\r\n",
        "        ,[14.7 ,1. ,24.6]\r\n",
        "        ,[10.1 ,7. ,47.9]\r\n",
        "        ,[39.6 ,4. ,38.8]\r\n",
        "        ,[29.3 ,2. ,27. ]\r\n",
        "        ,[ 3.1 ,5. ,56.2]\r\n",
        "        ,[10.4 ,5. ,33.6]\r\n",
        "        ,[19.2 ,4. ,47. ]\r\n",
        "        ,[ 7.1 ,5. ,57.1]\r\n",
        "        ,[25.9 ,0. ,22.1]\r\n",
        "        ,[29.6 ,7. ,25. ]\r\n",
        "        ,[37.9 ,1. ,34.2]\r\n",
        "        ,[16.5 ,6. ,49.3]\r\n",
        "        ,[15.4 ,7. ,55.1]\r\n",
        "        ,[13.9 ,0. ,27.3]\r\n",
        "        ,[14.7 ,2. ,22.9]\r\n",
        "        ,[12.  ,1. ,25.3]\r\n",
        "        ,[ 3.1 ,6. ,47.7]\r\n",
        "        ,[16.2 ,5. ,46.2]\r\n",
        "        ,[13.6 ,0. ,15.9]\r\n",
        "        ,[16.8 ,0. ,18.2]\r\n",
        "        ,[36.1 ,5. ,34.7]\r\n",
        "        ,[34.4 ,6. ,34.1]\r\n",
        "        ,[ 2.7 ,4. ,53.9]\r\n",
        "        ,[36.6 ,8. ,38.3]\r\n",
        "        ,[21.7 ,9. ,42. ]\r\n",
        "        ,[35.9 ,3. ,61.5]\r\n",
        "        ,[24.2 ,0. ,13.4]\r\n",
        "        ,[29.4 ,1. ,13.2]\r\n",
        "        ,[21.7 ,4. ,44.2]\r\n",
        "        ,[31.3 ,1. ,20.7]\r\n",
        "        ,[32.1 ,3. ,27. ]\r\n",
        "        ,[13.3 ,5. ,38.9]\r\n",
        "        ,[16.1 ,5. ,51.7]\r\n",
        "        ,[31.7 ,0. ,13.7]\r\n",
        "        ,[33.6 ,8. ,41.9]\r\n",
        "        ,[ 3.5 ,7. ,53.5]\r\n",
        "        ,[30.3 ,1. ,22.6]\r\n",
        "        ,[13.3 ,5. ,42.4]\r\n",
        "        ,[11.  ,2. ,21.3]\r\n",
        "        ,[ 5.3 ,6. ,63.2]\r\n",
        "        ,[17.2 ,3. ,27.7]\r\n",
        "        ,[ 2.6 ,4. ,55. ]\r\n",
        "        ,[17.5 ,0. ,25.3]\r\n",
        "        ,[40.1 ,8. ,44.3]\r\n",
        "        ,[ 1.  ,6. ,50.7]\r\n",
        "        ,[ 8.5 ,5. ,56.8]\r\n",
        "        ,[30.4 ,6. ,36.2]\r\n",
        "        ,[12.5 ,5. ,42. ]\r\n",
        "        ,[ 6.6 ,9. ,59. ]\r\n",
        "        ,[35.5 ,3. ,40.8]\r\n",
        "        ,[32.5 ,8. ,36.3]\r\n",
        "        ,[13.8 ,0. ,20. ]\r\n",
        "        ,[ 6.8 ,0. ,54.4]\r\n",
        "        ,[12.3 ,1. ,29.5]\r\n",
        "        ,[35.9 ,3. ,36.8]\r\n",
        "        ,[20.5 ,3. ,25.6]\r\n",
        "        ,[38.2 ,2. ,29.8]\r\n",
        "        ,[18.  ,1. ,26.5]\r\n",
        "        ,[11.8 ,4. ,40.3]\r\n",
        "        ,[30.8 ,6. ,36.8]\r\n",
        "        ,[13.2 ,7. ,48.1]\r\n",
        "        ,[25.3 ,3. ,17.7]\r\n",
        "        ,[15.1 ,7. ,43.7]\r\n",
        "        ,[ 0.  ,9. ,50.8]\r\n",
        "        ,[ 1.8 ,1. ,27. ]\r\n",
        "        ,[16.9 ,0. ,18.3]\r\n",
        "        ,[ 8.9 ,0. ,48. ]\r\n",
        "        ,[23.  ,0. ,25.3]\r\n",
        "        ,[ 0.  ,1. ,45.4]\r\n",
        "        ,[ 9.1 ,0. ,43.2]\r\n",
        "        ,[20.6 ,4. ,21.8]\r\n",
        "        ,[31.9 ,0. ,16.1]\r\n",
        "        ,[40.9 ,5. ,41. ]\r\n",
        "        ,[ 8.  ,5. ,51.8]\r\n",
        "        ,[ 6.4 ,9. ,59.5]\r\n",
        "        ,[28.4 ,3. ,34.6]\r\n",
        "        ,[16.4 ,5. ,51. ]\r\n",
        "        ,[ 6.4 ,9. ,62.2]\r\n",
        "        ,[17.5 ,4. ,38.2]\r\n",
        "        ,[12.7 ,1. ,32.9]\r\n",
        "        ,[ 1.1 ,6. ,54.4]\r\n",
        "        ,[ 0.  ,6. ,45.7]\r\n",
        "        ,[32.7 ,6. ,30.5]\r\n",
        "        ,[ 0.  ,6. ,71. ]\r\n",
        "        ,[17.2 ,8. ,47.1]\r\n",
        "        ,[12.2 ,1. ,26.6]\r\n",
        "        ,[31.4 ,2. ,34.1]\r\n",
        "        ,[ 4.  ,3. ,28.4]\r\n",
        "        ,[ 8.1 ,5. ,51.6]\r\n",
        "        ,[33.3 ,7. ,39.4]\r\n",
        "        ,[ 9.9 ,3. ,23.1]\r\n",
        "        ,[14.8 ,6. , 7.6]\r\n",
        "        ,[30.6 ,8. ,53.3]\r\n",
        "        ,[20.6 ,2. ,46.4]\r\n",
        "        ,[30.9 ,1. ,12.2]\r\n",
        "        ,[13.6 ,0. ,13. ]\r\n",
        "        ,[25.3 ,3. ,30.6]\r\n",
        "        ,[16.6 ,5. ,59.6]])"
      ],
      "execution_count": 31,
      "outputs": []
    },
    {
      "cell_type": "markdown",
      "metadata": {
        "id": "0xu5uz6Zobza"
      },
      "source": [
        "converting this array into the FEATURES and TARGET PRICE"
      ]
    },
    {
      "cell_type": "code",
      "metadata": {
        "id": "pEmEje9DLYM1"
      },
      "source": [
        "y = np.array(arr[:,2])\r\n",
        "x = np.array(arr[:,[0,1]])"
      ],
      "execution_count": 32,
      "outputs": []
    },
    {
      "cell_type": "markdown",
      "metadata": {
        "id": "KuuNSyGxosTF"
      },
      "source": [
        "Converting this data into 100 training examples and 20 testing examples"
      ]
    },
    {
      "cell_type": "code",
      "metadata": {
        "id": "oM9-7s_XLjsY"
      },
      "source": [
        "x_test = x[100:]\r\n",
        "y_test = y[100:]\r\n",
        "x_test[:,0] = (x_test[:,0])/10\r\n",
        "x_test[:,1] = (x_test[:,1])/50"
      ],
      "execution_count": 33,
      "outputs": []
    },
    {
      "cell_type": "code",
      "metadata": {
        "id": "2aqxX7j-NCOu"
      },
      "source": [
        "y_train = y[:100]\r\n",
        "x_train = x[:100]\r\n",
        "x_train[:,0] = (x_train[:,0]-5)/10\r\n",
        "x_train[:,1] = (x_train[:,1]-18.472)/50\r\n",
        "\r\n",
        "x_n_train = np.arange(300)\r\n",
        "x_n_train = np.reshape(x_n_train,(100,3))"
      ],
      "execution_count": 34,
      "outputs": []
    },
    {
      "cell_type": "code",
      "metadata": {
        "id": "yaSgc2BMMVNM"
      },
      "source": [
        "for i in range(100):\r\n",
        "    x_n_train[i] = np.insert(x_train[i],0,1)"
      ],
      "execution_count": 35,
      "outputs": []
    },
    {
      "cell_type": "markdown",
      "metadata": {
        "id": "FoommLi2psuj"
      },
      "source": [
        "# Some Functions for doing the tasks in the code "
      ]
    },
    {
      "cell_type": "markdown",
      "metadata": {
        "id": "YaWKOR6ho4GA"
      },
      "source": [
        "for hypothesis genration the vector multiplication function"
      ]
    },
    {
      "cell_type": "code",
      "metadata": {
        "id": "i1rImM23PSan"
      },
      "source": [
        "def mult(a,b):\r\n",
        "    r = 0\r\n",
        "    for i in range(3):\r\n",
        "            r = r + a[i]*b[i]\r\n",
        "    return r"
      ],
      "execution_count": 36,
      "outputs": []
    },
    {
      "cell_type": "markdown",
      "metadata": {
        "id": "Pldh_VVmpBQH"
      },
      "source": [
        "Q is the theta ie: cofficient of the the feature in the hypothesis\r\n",
        "and\r\n",
        "y_pred is the pridicted value of that example which changes upon every new value of Q (hypothesis)"
      ]
    },
    {
      "cell_type": "code",
      "metadata": {
        "id": "jAiuT62gQs75"
      },
      "source": [
        "Q = np.array([1]*3)\r\n",
        "y_pred = np.array([0]*100)\r\n",
        "m = 100"
      ],
      "execution_count": 37,
      "outputs": []
    },
    {
      "cell_type": "code",
      "metadata": {
        "id": "PleoPhS3ivmj"
      },
      "source": [
        "# for i in range(100):\r\n",
        "#     y_pred[i] = mult(Q,x_train[i])\r\n",
        "#\r\n",
        "# cost_function = (1/(2*m))*np.sum((y_pred-y_train)**2)"
      ],
      "execution_count": 38,
      "outputs": []
    },
    {
      "cell_type": "markdown",
      "metadata": {
        "id": "NBohblUVpfVK"
      },
      "source": [
        "functions as a replacement of :(np.sum) by itrative method"
      ]
    },
    {
      "cell_type": "code",
      "metadata": {
        "id": "HlCk4-NYixel"
      },
      "source": [
        "def sumit(a,y_pred,y_train):\r\n",
        "    r=0.0\r\n",
        "    for i in range(100):\r\n",
        "        r = r+(y_pred[i] - y_train[i])*a[i]\r\n",
        "    return r\r\n",
        "\r\n",
        "def sumit2(y_pred,y_train):\r\n",
        "    r=0.0\r\n",
        "    for i in range(100):\r\n",
        "        r = r+(y_pred[i] - y_train[i])**2\r\n",
        "    return r"
      ],
      "execution_count": 39,
      "outputs": []
    },
    {
      "cell_type": "markdown",
      "metadata": {
        "id": "zytli-2Qp8Tv"
      },
      "source": [
        "# Applying the main linear regression code"
      ]
    },
    {
      "cell_type": "markdown",
      "metadata": {
        "id": "dPza4gOoi5Af"
      },
      "source": [
        "this is the main code for the linear regression algorithm"
      ]
    },
    {
      "cell_type": "code",
      "metadata": {
        "id": "9xLUAYd8i51F"
      },
      "source": [
        "def linear(Q,y_pred,y_train,alpha,itrations):\r\n",
        "    cost_function_for_graph = np.array([0]*itrations)\r\n",
        "    for j in range(itrations):\r\n",
        "        for i in range(3):\r\n",
        "            temp = sumit(x_n_train[:,i],y_pred,y_train)\r\n",
        "            temp2 = Q[i] - alpha*(1/m)*temp\r\n",
        "            Q[i]=temp2\r\n",
        "\r\n",
        "        for k in range(m):\r\n",
        "            y_pred[k] = mult(Q, x_n_train[k])\r\n",
        "            cost_function = (1 / (2 * m)) * sumit2(y_pred, y_train)\r\n",
        "\r\n",
        "        cost_function_for_graph[j] = cost_function\r\n",
        "\r\n",
        "        if j%5==0:\r\n",
        "            print(cost_function)\r\n",
        "\r\n",
        "    return Q,cost_function_for_graph\r\n"
      ],
      "execution_count": 63,
      "outputs": []
    },
    {
      "cell_type": "markdown",
      "metadata": {
        "id": "TpMuQLpci-0G"
      },
      "source": [
        "runing the above function and prining the value of cost function after every 10 itration"
      ]
    },
    {
      "cell_type": "code",
      "metadata": {
        "colab": {
          "base_uri": "https://localhost:8080/"
        },
        "id": "8IIEkjyMi9r9",
        "outputId": "f02e01f2-7108-4ba6-e039-d094c174319d"
      },
      "source": [
        "# TESTING\r\n",
        "itration = 50\r\n",
        "Q_new,temp =linear(Q,y_pred,y_train,0.6,itration)"
      ],
      "execution_count": 81,
      "outputs": [
        {
          "output_type": "stream",
          "text": [
            "26410246858.75221\n",
            "92178572.4342\n",
            "319592.46020000003\n",
            "1149.0362000000002\n",
            "84.27420000000001\n",
            "84.1542\n",
            "84.1542\n",
            "84.1542\n",
            "84.1542\n",
            "84.1542\n"
          ],
          "name": "stdout"
        }
      ]
    },
    {
      "cell_type": "markdown",
      "metadata": {
        "id": "3Y_jSqb4qXtR"
      },
      "source": [
        "ploting graph of\r\n",
        "cost function vs no.of.itration"
      ]
    },
    {
      "cell_type": "code",
      "metadata": {
        "colab": {
          "base_uri": "https://localhost:8080/",
          "height": 276
        },
        "id": "Ps8X9hZci_m5",
        "outputId": "3d4fd4cc-89ec-41a9-ba7a-e159889deacd"
      },
      "source": [
        "temp0 = np.arange(itration)\r\n",
        "plt.scatter(temp0,temp)\r\n",
        "plt.show()"
      ],
      "execution_count": 82,
      "outputs": [
        {
          "output_type": "display_data",
          "data": {
            "image/png": "[encoded data removed]",
            "text/plain": [
              "<Figure size 432x288 with 1 Axes>"
            ]
          },
          "metadata": {
            "tags": [],
            "needs_background": "light"
          }
        }
      ]
    },
    {
      "cell_type": "markdown",
      "metadata": {
        "id": "VgzeIX3mqpFl"
      },
      "source": [
        "# Testing on the remaining 20 examples "
      ]
    },
    {
      "cell_type": "code",
      "metadata": {
        "colab": {
          "base_uri": "https://localhost:8080/"
        },
        "id": "hViaLxPbjEVV",
        "outputId": "7d8aa7df-96cc-44a3-ed10-ddf9ed724620"
      },
      "source": [
        "print(\"testing>>>>>>>>>,,,,,,\")\r\n",
        "\r\n",
        "x_n_test = np.arange(60)\r\n",
        "x_n_test = np.reshape(x_n_test,(20,3))"
      ],
      "execution_count": 83,
      "outputs": [
        {
          "output_type": "stream",
          "text": [
            "testing>>>>>>>>>,,,,,,\n"
          ],
          "name": "stdout"
        }
      ]
    },
    {
      "cell_type": "code",
      "metadata": {
        "id": "cXcwA-dkjFA8"
      },
      "source": [
        "for i in range(20):\r\n",
        "    x_n_train[i] = np.insert(x_test[i],0,1)\r\n",
        "\r\n",
        "y_pred = ([1]*20)"
      ],
      "execution_count": 84,
      "outputs": []
    },
    {
      "cell_type": "code",
      "metadata": {
        "id": "ejgH6eUvjJd_"
      },
      "source": [
        "# print(\"this is the pridicted value for the \",number,\" term\")\r\n",
        "# y_pred = mult(Q_new, x_n_test)\r\n",
        "# print(y_pred)\r\n",
        "# print('')\r\n",
        "# print(\"here is the actual value at \",number,\" term\")\r\n",
        "# print(y_test[number])"
      ],
      "execution_count": 85,
      "outputs": []
    },
    {
      "cell_type": "code",
      "metadata": {
        "id": "2uAyXW1bjKGP"
      },
      "source": [
        "for k in range(20):\r\n",
        "    y_pred[k] = Q_new[0]+Q_new[1]*x_test[k][0]+Q_new[2]*x_test[k][1]"
      ],
      "execution_count": 86,
      "outputs": []
    },
    {
      "cell_type": "markdown",
      "metadata": {
        "id": "KAsXsLp8q7k1"
      },
      "source": [
        "Graph showing the predicted value of price over the 20 examples\""
      ]
    },
    {
      "cell_type": "code",
      "metadata": {
        "colab": {
          "base_uri": "https://localhost:8080/",
          "height": 265
        },
        "id": "9FBf7-HXjL16",
        "outputId": "3863eaef-d9a2-4335-abbd-f14150254a55"
      },
      "source": [
        "# y_test = np.sort(y_test, axis=-1, kind='quicksort', order=None)\r\n",
        "plt.plot(np.arange(20),y_test)\r\n",
        "plt.scatter(np.arange(20),y_pred)\r\n",
        "plt.show()"
      ],
      "execution_count": 87,
      "outputs": [
        {
          "output_type": "display_data",
          "data": {
            "image/png": "[encoded data removed]",
            "text/plain": [
              "<Figure size 432x288 with 1 Axes>"
            ]
          },
          "metadata": {
            "tags": [],
            "needs_background": "light"
          }
        }
      ]
    },
    {
      "cell_type": "code",
      "metadata": {
        "id": "TDPFhSD4s_XE"
      },
      "source": [
        ""
      ],
      "execution_count": null,
      "outputs": []
    }
  ]
}