{
  "nbformat": 4,
  "nbformat_minor": 0,
  "metadata": {
    "colab": {
      "name": "FINAL_KNN.ipynb",
      "provenance": [],
      "collapsed_sections": [],
      "toc_visible": true,
      "authorship_tag": "ABX9TyP+pHVWK785yFs2VqRqv5ef",
      "include_colab_link": true
    },
    "kernelspec": {
      "display_name": "Python 3",
      "name": "python3"
    },
    "language_info": {
      "name": "python"
    }
  },
  "cells": [
    {
      "cell_type": "markdown",
      "metadata": {
        "id": "view-in-github",
        "colab_type": "text"
      },
      "source": [
        "<a href=\"https://colab.research.google.com/github/vivekpatidar1413/ML_bootcamp_vivek/blob/KNN/FINAL_KNN.ipynb\" target=\"_parent\"><img src=\"https://colab.research.google.com/assets/colab-badge.svg\" alt=\"Open In Colab\"/></a>"
      ]
    },
    {
      "cell_type": "markdown",
      "metadata": {
        "id": "WfhJGhaKBojY"
      },
      "source": [
        "# Importing All The Basic Libraries\n"
      ]
    },
    {
      "cell_type": "code",
      "metadata": {
        "id": "hmUqrEFIbAFx"
      },
      "source": [
        "import numpy as np\n",
        "import pandas as pd\n",
        "import matplotlib.pyplot as plt\n",
        "from sklearn.metrics import accuracy_score"
      ],
      "execution_count": null,
      "outputs": []
    },
    {
      "cell_type": "markdown",
      "metadata": {
        "id": "1N2-mJNoBgGB"
      },
      "source": [
        "# Importing The Mnist Dataset\n"
      ]
    },
    {
      "cell_type": "code",
      "metadata": {
        "id": "0wtAXsYOUffE"
      },
      "source": [
        "train_df = pd.read_csv(\"/content/sample_data/mnist_train_small.csv\")\n",
        "test_df  = pd.read_csv(\"/content/sample_data/mnist_test.csv\")"
      ],
      "execution_count": null,
      "outputs": []
    },
    {
      "cell_type": "code",
      "metadata": {
        "id": "UiKOHYNAVSgi"
      },
      "source": [
        "# conerverting the dataframe into numpy array\n",
        "train = train_df.to_numpy()\n",
        "test  = test_df.to_numpy()"
      ],
      "execution_count": null,
      "outputs": []
    },
    {
      "cell_type": "markdown",
      "metadata": {
        "id": "InYuUaIOC9eu"
      },
      "source": [
        "**Spliting the dataset According to the Labels in it **\n",
        "\n",
        "to determine the accuracy according to label i perform the knn for diffrent value of labels"
      ]
    },
    {
      "cell_type": "code",
      "metadata": {
        "id": "XH6jmP3nZGEb"
      },
      "source": [
        "# making the test data in the increasing order of labels in them\n",
        "\n",
        "test = test[np.argsort(test[:, 0])]"
      ],
      "execution_count": null,
      "outputs": []
    },
    {
      "cell_type": "code",
      "metadata": {
        "id": "wqEadIN0VUTT"
      },
      "source": [
        "x_train = train[:,1:]\n",
        "y_train = train[:,:1]\n",
        "\n",
        "x_n_test = test[:,1:]\n",
        "y_n_test = test[:,:1]"
      ],
      "execution_count": null,
      "outputs": []
    },
    {
      "cell_type": "code",
      "metadata": {
        "colab": {
          "base_uri": "https://localhost:8080/"
        },
        "id": "vqA51rDQZdrV",
        "outputId": "3bb31163-6f23-4b54-c766-da1b75b09ee3"
      },
      "source": [
        "digit = []\n",
        "for j in range(10):\n",
        "  temp = 0\n",
        "  for i in range(9999):\n",
        "    if test[i][0] == j:\n",
        "      temp = temp + 1\n",
        "  print('the',j,'digit occures',temp,'times')\n",
        "  digit.append(temp)"
      ],
      "execution_count": null,
      "outputs": [
        {
          "output_type": "stream",
          "text": [
            "the 0 digit occures 980 times\n",
            "the 1 digit occures 1135 times\n",
            "the 2 digit occures 1032 times\n",
            "the 3 digit occures 1010 times\n",
            "the 4 digit occures 982 times\n",
            "the 5 digit occures 892 times\n",
            "the 6 digit occures 958 times\n",
            "the 7 digit occures 1027 times\n",
            "the 8 digit occures 974 times\n",
            "the 9 digit occures 1009 times\n"
          ],
          "name": "stdout"
        }
      ]
    },
    {
      "cell_type": "markdown",
      "metadata": {
        "id": "dZb265K9EAzE"
      },
      "source": [
        "# Spliting the dataset according to labels"
      ]
    },
    {
      "cell_type": "markdown",
      "metadata": {
        "id": "zqjzC73lB0_9"
      },
      "source": [
        "**Customizing The Data**\n",
        "\n",
        "1.   spliting the dataset into all diffrent digits\n",
        "2.   and then further spliting it into y_test and x_test\n",
        "\n"
      ]
    },
    {
      "cell_type": "code",
      "metadata": {
        "id": "maPWPeE3fA1D"
      },
      "source": [
        "test_0 = test[:980,:]\n",
        "test_1 = test[980:2115,:]\n",
        "test_2 = test[2155:3147,:]\n",
        "test_3 = test[3147:4157,:]\n",
        "test_4 = test[4157:5139,:]\n",
        "test_5 = test[5139:6031,:]\n",
        "test_6 = test[6031:6989,:]\n",
        "test_7 = test[6989:8016,:]\n",
        "test_8 = test[8016:8990,:]\n",
        "test_9 = test[8990:,:]"
      ],
      "execution_count": null,
      "outputs": []
    },
    {
      "cell_type": "code",
      "metadata": {
        "id": "eOZE10IDTKg-"
      },
      "source": [
        "''' Defing the test data for all diffrent labels'''\n",
        "# we can also define a list of all this instead of diffrent variable names\n",
        "\n",
        "x_test_0 = test_0[:,1:]\n",
        "y_test_0 = test_0[:,:1]\n",
        "  \n",
        "x_test_1 = test_1[:,1:]\n",
        "y_test_1 = test_1[:,:1]\n",
        "\n",
        "\n",
        "x_test_2 = test_2[:,1:]\n",
        "y_test_2 = test_2[:,:1]\n",
        "\n",
        "x_test_3 = test_3[:,1:]\n",
        "y_test_3 = test_3[:,:1]\n",
        "\n",
        "x_test_4 = test_4[:,1:]\n",
        "y_test_4 = test_4[:,:1]\n",
        "\n",
        "x_test_5 = test_5[:,1:]\n",
        "y_test_5 = test_5[:,:1]\n",
        "\n",
        "x_test_6 = test_6[:,1:]\n",
        "y_test_6 = test_6[:,:1]\n",
        "\n",
        "x_test_7 = test_7[:,1:]\n",
        "y_test_7 = test_7[:,:1]\n",
        "\n",
        "x_test_8 = test_8[:,1:]\n",
        "y_test_8 = test_8[:,:1]\n",
        "\n",
        "x_test_9 = test_9[:,1:]\n",
        "y_test_9 = test_9[:,:1]  "
      ],
      "execution_count": null,
      "outputs": []
    },
    {
      "cell_type": "markdown",
      "metadata": {
        "id": "878zH2KkCRu0"
      },
      "source": [
        "# Implementing k-nearest neighbors Algorithm"
      ]
    },
    {
      "cell_type": "markdown",
      "metadata": {
        "id": "BTPRJGr9Cg2A"
      },
      "source": [
        "the function to caluclate the sum of euclidean distace from all the training logs"
      ]
    },
    {
      "cell_type": "code",
      "metadata": {
        "id": "5TEeh8QNbkfx"
      },
      "source": [
        "# calculating euclidean distance\n",
        "\n",
        "def dist(x,y):\n",
        "    temp = np.sqrt(np.sum((x-y)**2))   \n",
        "    return temp"
      ],
      "execution_count": null,
      "outputs": []
    },
    {
      "cell_type": "code",
      "metadata": {
        "id": "luk214slhGW0"
      },
      "source": [
        "# defing the main preiction array to store all the prediction of digit done by individual function call\n",
        "y_pred = np.array([10]*9999)"
      ],
      "execution_count": null,
      "outputs": []
    },
    {
      "cell_type": "markdown",
      "metadata": {
        "id": "QTrEBp6ODBJo"
      },
      "source": [
        "THE MAIN FUNCTION BEGINS FROM HERE\n",
        "\n",
        "\n"
      ]
    },
    {
      "cell_type": "code",
      "metadata": {
        "id": "QXQxljCHhGTa"
      },
      "source": [
        "def The_Main_Function (k,x_test,y_test,N,digit):\n",
        "\n",
        "  no_of_correctly_predicted_digits = 0\n",
        "\n",
        "  for i in range(N):\n",
        "    \n",
        "    knn_values = []\n",
        "    euclidean_distace = []        # storing the distance from all the data points in the from of a list \n",
        "\n",
        "\n",
        "    for j in range(19999):\n",
        "      temp = dist(x_train[j],x_test[i])\n",
        "      euclidean_distace.append([temp,j])\n",
        "\n",
        "    euclidean_distace.sort()      # sorting down the list to take the points which have shortest distances\n",
        "\n",
        "    # taking the k nearest data points\n",
        "    \n",
        "    for m in range(k):\n",
        "      p = euclidean_distace[m][1]\n",
        "      \n",
        "      l = y_train[p]\n",
        "      lw = int(l)\n",
        "      knn_values.append(lw)\n",
        "\n",
        "    # storing that value as the final prediction which occures maximium times in the k nearest neighbour\n",
        "    y_pred[i] = max(set(knn_values), key=knn_values.count)\n",
        "    \n",
        "    \n",
        "    if y_pred[i] == digit:\n",
        "      no_of_correctly_predicted_digits += 1\n",
        "\n",
        "\n",
        "  print('for',digit,'\\n',no_of_correctly_predicted_digits,'out of ',N,'are correctly predicted')\n",
        "  print('accuracy is',no_of_correctly_predicted_digits/N*100,'%')\n"
      ],
      "execution_count": null,
      "outputs": []
    },
    {
      "cell_type": "markdown",
      "metadata": {
        "id": "xvkdFeOtErjt"
      },
      "source": [
        "**Calling all the function one by one**\n",
        "\n",
        "while running the test i found that k = 3 is giving a descent accuracy so i used k = 3 for this\n"
      ]
    },
    {
      "cell_type": "markdown",
      "metadata": {
        "id": "KP_8bYwCFBCy"
      },
      "source": [
        "ACCURACY for digit 0"
      ]
    },
    {
      "cell_type": "code",
      "metadata": {
        "colab": {
          "base_uri": "https://localhost:8080/"
        },
        "id": "lfajxon4nRWr",
        "outputId": "8cd45126-9bae-4cb4-8844-18371a556a97"
      },
      "source": [
        "The_Main_Function(3,x_test_0,y_test_0,digit[0],0)"
      ],
      "execution_count": null,
      "outputs": [
        {
          "output_type": "stream",
          "text": [
            "for 0 \n",
            " 971 out of  980 are correctly predicted\n",
            "accuracy is 99.08163265306122 %\n"
          ],
          "name": "stdout"
        }
      ]
    },
    {
      "cell_type": "markdown",
      "metadata": {
        "id": "zz5IBYpLFHg1"
      },
      "source": [
        "Calling for digit 1"
      ]
    },
    {
      "cell_type": "code",
      "metadata": {
        "id": "7QqZ49xmnRTj",
        "colab": {
          "base_uri": "https://localhost:8080/"
        },
        "outputId": "73093c1e-8204-4c70-93ea-20436b7fff40"
      },
      "source": [
        "The_Main_Function(3,x_test_1,y_test_1,digit[1],1)"
      ],
      "execution_count": null,
      "outputs": [
        {
          "output_type": "stream",
          "text": [
            "for 1 \n",
            " 1130 out of  1135 are correctly predicted\n",
            "accuracy is 99.55947136563876 %\n"
          ],
          "name": "stdout"
        }
      ]
    },
    {
      "cell_type": "markdown",
      "metadata": {
        "id": "j-_9XoOYFJQ9"
      },
      "source": [
        "calling for digit 2"
      ]
    },
    {
      "cell_type": "code",
      "metadata": {
        "id": "I8ZWorPbnRRn"
      },
      "source": [
        "The_Main_Function(3,x_test_2,y_test_2,digit[2],2)"
      ],
      "execution_count": null,
      "outputs": []
    },
    {
      "cell_type": "markdown",
      "metadata": {
        "id": "43MaloOFFKgN"
      },
      "source": [
        "calling for digit 3"
      ]
    },
    {
      "cell_type": "code",
      "metadata": {
        "id": "RK5YLx1snRPn",
        "colab": {
          "base_uri": "https://localhost:8080/"
        },
        "outputId": "bf172c6a-eb8b-4f97-eeba-b07c7f6f453e"
      },
      "source": [
        "The_Main_Function(3,x_test_3,y_test_3,digit[3],3)"
      ],
      "execution_count": null,
      "outputs": [
        {
          "output_type": "stream",
          "text": [
            "for 3 \n",
            " 970 out of  1010 are correctly predicted\n",
            "accuracy is 96.03960396039604 %\n"
          ],
          "name": "stdout"
        }
      ]
    },
    {
      "cell_type": "markdown",
      "metadata": {
        "id": "-0U3doBbFL5K"
      },
      "source": [
        "calling for digit 4\n"
      ]
    },
    {
      "cell_type": "code",
      "metadata": {
        "id": "PJZu6ulrnRNP",
        "colab": {
          "base_uri": "https://localhost:8080/"
        },
        "outputId": "f6d1f78a-74e6-4ca1-82eb-675755b17313"
      },
      "source": [
        "The_Main_Function(3,x_test_4,y_test_4,digit[4],4)"
      ],
      "execution_count": null,
      "outputs": [
        {
          "output_type": "stream",
          "text": [
            "for 4 \n",
            " 917 out of  982 are correctly predicted\n",
            "accuracy is 93.38085539714868 %\n"
          ],
          "name": "stdout"
        }
      ]
    },
    {
      "cell_type": "markdown",
      "metadata": {
        "id": "YRlAc6jmFXtQ"
      },
      "source": [
        "calling for digit 5"
      ]
    },
    {
      "cell_type": "code",
      "metadata": {
        "id": "oCaQc4gLomXc",
        "colab": {
          "base_uri": "https://localhost:8080/"
        },
        "outputId": "37cddd84-21ad-41c9-8ddc-e42e73ae4cfa"
      },
      "source": [
        " The_Main_Function(3,x_test_5,y_test_5,digit[5],5)"
      ],
      "execution_count": null,
      "outputs": [
        {
          "output_type": "stream",
          "text": [
            "for 5 \n",
            " 846 out of  892 are correctly predicted\n",
            "accuracy is 94.84304932735425 %\n"
          ],
          "name": "stdout"
        }
      ]
    },
    {
      "cell_type": "markdown",
      "metadata": {
        "id": "XrJONPgGFXkg"
      },
      "source": [
        "calling for digit 6"
      ]
    },
    {
      "cell_type": "code",
      "metadata": {
        "id": "C1-xvKvYomUA",
        "colab": {
          "base_uri": "https://localhost:8080/"
        },
        "outputId": "4e59d3a9-8a82-44c3-adc0-b0424b6f85c5"
      },
      "source": [
        " The_Main_Function(3,x_test_6,y_test_6,digit[6],6)"
      ],
      "execution_count": null,
      "outputs": [
        {
          "output_type": "stream",
          "text": [
            "for 6 \n",
            " 939 out of  958 are correctly predicted\n",
            "accuracy is 98.01670146137788 %\n"
          ],
          "name": "stdout"
        }
      ]
    },
    {
      "cell_type": "markdown",
      "metadata": {
        "id": "HoSR3OJ1FXdq"
      },
      "source": [
        "calling for digit 7"
      ]
    },
    {
      "cell_type": "code",
      "metadata": {
        "id": "c48pSUXSomR5",
        "colab": {
          "base_uri": "https://localhost:8080/"
        },
        "outputId": "e66a2ba3-aad2-4707-cfee-da9bec5f383a"
      },
      "source": [
        "The_Main_Function(3,x_test_7,y_test_7,digit[7],7)"
      ],
      "execution_count": null,
      "outputs": [
        {
          "output_type": "stream",
          "text": [
            "for 7 \n",
            " 982 out of  1027 are correctly predicted\n",
            "accuracy is 95.61830574488802 %\n"
          ],
          "name": "stdout"
        }
      ]
    },
    {
      "cell_type": "markdown",
      "metadata": {
        "id": "TOx6vXTrFjAd"
      },
      "source": [
        "calling for digit 8"
      ]
    },
    {
      "cell_type": "code",
      "metadata": {
        "id": "znrHY-dool5R",
        "colab": {
          "base_uri": "https://localhost:8080/"
        },
        "outputId": "3d9c10c3-9e58-4aff-8d08-f353dc564fd8"
      },
      "source": [
        "The_Main_Function(3,x_test_8,y_test_8,digit[8],8)"
      ],
      "execution_count": null,
      "outputs": [
        {
          "output_type": "stream",
          "text": [
            "for 8 \n",
            " 914 out of  974 are correctly predicted\n",
            "accuracy is 93.83983572895276 %\n"
          ],
          "name": "stdout"
        }
      ]
    },
    {
      "cell_type": "markdown",
      "metadata": {
        "id": "3GNaqR7aFmG3"
      },
      "source": [
        "calling for digit 9"
      ]
    },
    {
      "cell_type": "code",
      "metadata": {
        "id": "TbuxRIg_ooMR",
        "colab": {
          "base_uri": "https://localhost:8080/"
        },
        "outputId": "9e4f7e32-18c7-40cc-b7ad-c0306e4b0944"
      },
      "source": [
        "The_Main_Function(3,x_test_9,y_test_9,digit[9],9)"
      ],
      "execution_count": null,
      "outputs": [
        {
          "output_type": "stream",
          "text": [
            "for 9 \n",
            " 960 out of  1009 are correctly predicted\n",
            "accuracy is 95.14370664023785 %\n"
          ],
          "name": "stdout"
        }
      ]
    },
    {
      "cell_type": "markdown",
      "metadata": {
        "id": "K2yT4Ve_F0ga"
      },
      "source": [
        "# ACCURACY"
      ]
    },
    {
      "cell_type": "code",
      "metadata": {
        "id": "hUM9mF9MF4FG"
      },
      "source": [
        "''' \n",
        "by using k=3 \n",
        "my accuracy for diffrent digits are as follows\n",
        "'''\n",
        "              # for digit 0    --> 99.08 %\n",
        "              # for digit 1    --> 99.56 %\n",
        "              # for digit 2    --> 95.45 %\n",
        "              # for digit 3    --> 96.04 %\n",
        "              # for digit 4    --> 93.38 %\n",
        "              # for digit 5    --> 94.84 %\n",
        "              # for digit 6    --> 98.02 %\n",
        "              # for digit 7    --> 95.62 %\n",
        "              # for digit 8    --> 93.84 %\n",
        "              # for digit 9    --> 95.14 %\n"
      ],
      "execution_count": null,
      "outputs": []
    },
    {
      "cell_type": "code",
      "metadata": {
        "id": "7sz8VBtkG_Vm"
      },
      "source": [
        "'''overall mean accuracy is '''\n",
        "\n",
        "# {                        96.10 %                            }"
      ],
      "execution_count": null,
      "outputs": []
    }
  ]
}