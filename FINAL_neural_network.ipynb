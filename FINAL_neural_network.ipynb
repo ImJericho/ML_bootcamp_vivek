{
  "nbformat": 4,
  "nbformat_minor": 0,
  "metadata": {
    "colab": {
      "name": "FINAL_neural_network.ipynb",
      "provenance": [],
      "collapsed_sections": [],
      "toc_visible": true,
      "authorship_tag": "ABX9TyOGwoDWrem3FBcSsseA2bXI",
      "include_colab_link": true
    },
    "kernelspec": {
      "display_name": "Python 3",
      "name": "python3"
    },
    "language_info": {
      "name": "python"
    }
  },
  "cells": [
    {
      "cell_type": "markdown",
      "metadata": {
        "id": "view-in-github",
        "colab_type": "text"
      },
      "source": [
        "<a href=\"https://colab.research.google.com/github/vivekpatidar1413/ML_bootcamp_vivek/blob/Neural-Network/FINAL_neural_network.ipynb\" target=\"_parent\"><img src=\"https://colab.research.google.com/assets/colab-badge.svg\" alt=\"Open In Colab\"/></a>"
      ]
    },
    {
      "cell_type": "markdown",
      "metadata": {
        "id": "Qs9em9FPr26f"
      },
      "source": [
        "# Loading the MNIST dataset\n"
      ]
    },
    {
      "cell_type": "code",
      "metadata": {
        "id": "W26Z32bmdTNI"
      },
      "source": [
        "import numpy as np \n",
        "import pandas as pd\n",
        "import matplotlib.pyplot as plt\n",
        "import random"
      ],
      "execution_count": null,
      "outputs": []
    },
    {
      "cell_type": "code",
      "metadata": {
        "id": "QvP6jcOcdTKh"
      },
      "source": [
        "train_df = pd.read_csv(\"/content/sample_data/mnist_train_small.csv\")\n",
        "test_df  = pd.read_csv(\"/content/sample_data/mnist_test.csv\")"
      ],
      "execution_count": null,
      "outputs": []
    },
    {
      "cell_type": "code",
      "metadata": {
        "id": "UDhwHz9KMpl4"
      },
      "source": [
        "train = train_df.to_numpy()\n",
        "test  = test_df.to_numpy()"
      ],
      "execution_count": null,
      "outputs": []
    },
    {
      "cell_type": "code",
      "metadata": {
        "id": "rlggotISdTGD"
      },
      "source": [
        "# splitting the dataset into 'lables' as y and 'feature (784pixels) as x'\n",
        "x_train = train[:,1:]/255\n",
        "y_train = train[:,:1]\n",
        "\n",
        "x_test = test[:,1:]/255\n",
        "y_test = test[:,:1]"
      ],
      "execution_count": null,
      "outputs": []
    },
    {
      "cell_type": "code",
      "metadata": {
        "id": "RS3T0GMMdTDc"
      },
      "source": [
        "#converting train_label in one hot encoder representation \n",
        "\n",
        "y_n_train=np.zeros((19999,10))\n",
        "\n",
        "for i in range(19999):\n",
        "  for j in range(10):\n",
        "    if y_train[i] == j:\n",
        "      y_n_train[i,j] = 1"
      ],
      "execution_count": null,
      "outputs": []
    },
    {
      "cell_type": "code",
      "metadata": {
        "id": "48eHDDamcJmb"
      },
      "source": [
        "y_n_test=np.zeros((9999,10))\n",
        "\n",
        "for i in range(9999):\n",
        "  for j in range(10):\n",
        "    if y_test[i] == j:\n",
        "      y_n_test[i,j] = 1"
      ],
      "execution_count": null,
      "outputs": []
    },
    {
      "cell_type": "code",
      "metadata": {
        "id": "Wq647uEecPoy",
        "colab": {
          "base_uri": "https://localhost:8080/"
        },
        "outputId": "8058988f-95d5-4fd3-b2b5-696df41783bc"
      },
      "source": [
        "print(x_train.shape,y_n_train.shape,x_test.shape,y_n_test.shape)"
      ],
      "execution_count": null,
      "outputs": [
        {
          "output_type": "stream",
          "text": [
            "(19999, 784) (19999, 10) (9999, 784) (9999, 10)\n"
          ],
          "name": "stdout"
        }
      ]
    },
    {
      "cell_type": "markdown",
      "metadata": {
        "id": "bNXgP-L3U7Ra"
      },
      "source": [
        "# INITIALIZATION\n"
      ]
    },
    {
      "cell_type": "markdown",
      "metadata": {
        "id": "78l_5m69shBM"
      },
      "source": [
        "Some Useful Function "
      ]
    },
    {
      "cell_type": "code",
      "metadata": {
        "id": "i5BwAZfYK_Jb"
      },
      "source": [
        "def sigmoid(z):\n",
        "  temp = 1 / (1+np.exp(-z))\n",
        "  return temp"
      ],
      "execution_count": null,
      "outputs": []
    },
    {
      "cell_type": "code",
      "metadata": {
        "id": "tqvDYbCva9U-"
      },
      "source": [
        "def sigmoid_nxt(z):\n",
        "  return (np.exp(-z))/((np.exp(-z)+1)**2)"
      ],
      "execution_count": null,
      "outputs": []
    },
    {
      "cell_type": "code",
      "metadata": {
        "id": "mgm4iR35FO8M"
      },
      "source": [
        "def softmax(x):\n",
        "  exps = np.exp(x - x.max())\n",
        "  return exps / np.sum(exps, axis=0)"
      ],
      "execution_count": null,
      "outputs": []
    },
    {
      "cell_type": "code",
      "metadata": {
        "id": "E5BHZD-Goe6c"
      },
      "source": [
        "def sigmoid_prime(x):\n",
        "    return x*(1-x)"
      ],
      "execution_count": null,
      "outputs": []
    },
    {
      "cell_type": "markdown",
      "metadata": {
        "id": "TuSjXLgwtB1l"
      },
      "source": [
        "Our Neural Network has 4 layer amoung which two hidden layers have 100 and 50 respective units"
      ]
    },
    {
      "cell_type": "markdown",
      "metadata": {
        "id": "xv8Rb6mYsqmG"
      },
      "source": [
        "### **784 -- 100 -- 50 -- 10**\n",
        "\n",
        "the architecture of this network is shown above"
      ]
    },
    {
      "cell_type": "markdown",
      "metadata": {
        "id": "gk7eiC6MciKR"
      },
      "source": [
        "# Forward propagation"
      ]
    },
    {
      "cell_type": "code",
      "metadata": {
        "id": "3zB9LIV4Uy1k"
      },
      "source": [
        "def forward_propagation (W1,W2,W3,X):\n",
        "  Z1 = np.dot(W1,X)\n",
        "  A1 = sigmoid(Z1)\n",
        "\n",
        "  Z2 = np.dot(W2,A1)\n",
        "  A2 = sigmoid(Z2)\n",
        "\n",
        "  Z3 = np.dot(W3,A2)\n",
        "  A3 = softmax(Z3)              #chk\n",
        "\n",
        "  return A1,A2,A3,Z1,Z2,Z3"
      ],
      "execution_count": null,
      "outputs": []
    },
    {
      "cell_type": "markdown",
      "metadata": {
        "id": "VmJW2aKvclqJ"
      },
      "source": [
        "# backward propagation Algorithm\n",
        "\n",
        "*   with updating the variables (parameters)\n",
        "\n",
        "\n",
        "\n",
        "\n"
      ]
    },
    {
      "cell_type": "code",
      "metadata": {
        "id": "Ko76qdzXUyyh"
      },
      "source": [
        "def back_propagation (W1,W2,W3,A1,A2,A3,Z1,Z2,Z3,Y):\n",
        "\n",
        "  # delta_l3 = (A3 - Y)*sigmoid_prime(A3)          \n",
        "  # delta_l2 = delta_l3.dot(W3)*sigmoid_prime(A2) \n",
        "  # delta_l1 = delta_l2.dot(W2)*sigmoid_prime(A1)\n",
        "\n",
        "  # delta_l3 = np.dot(error,A3)      \n",
        "  '''\n",
        "  error = A3 - Y\n",
        "  delta_l3 = np.dot(error,A3)\n",
        "  \n",
        "  error = np.multiply(np.dot(W3.T,error),sigmoid_nxt(Z2))    #changed\n",
        "  delta_l2 = np.dot(error,A2)\n",
        "\n",
        "  error = np.multiply(np.dot(W2.T,error),sigmoid_nxt(Z1))    #changed\n",
        "  delta_l1 = np.dot(error,A1)\n",
        "  '''\n",
        "\n",
        "  delta_l3 = A3 - Y\n",
        "  delta_l2 = np.multiply(np.dot(W3.T,delta_l3),sigmoid_nxt(Z2))\n",
        "  delta_l1 = np.multiply(np.dot(W2.T,delta_l2),sigmoid_nxt(Z1))\n",
        "\n",
        "  return delta_l1,delta_l2,delta_l3"
      ],
      "execution_count": null,
      "outputs": []
    },
    {
      "cell_type": "markdown",
      "metadata": {
        "id": "Ojm2VWUBtapC"
      },
      "source": [
        "Updating the parameters"
      ]
    },
    {
      "cell_type": "code",
      "metadata": {
        "id": "bfvA9R9SUyv_"
      },
      "source": [
        "def update_parameters(A1,A2,A3,delta_l1,delta_l2,delta_l3,X):\n",
        "    \n",
        "    '''learning rate'''\n",
        "\n",
        "    alpha = 0.0001     \n",
        "  \n",
        "    Del_1 = np.zeros((100,784))\n",
        "    Del_2 = np.zeros((50,100))\n",
        "    Del_3 = np.zeros((10,50))\n",
        "    \n",
        "    for i in range(100):\n",
        "        Del_1[i] += X*delta_l1[i]\n",
        "        \n",
        "    for i in range(50):\n",
        "        Del_2[i] += A1*delta_l2[i]\n",
        "\n",
        "    for i in range(10):\n",
        "        Del_3[i] += A2*delta_l3[i]\n",
        "\n",
        "      \n",
        "\n",
        "    return Del_1,Del_2,Del_3"
      ],
      "execution_count": null,
      "outputs": []
    },
    {
      "cell_type": "code",
      "metadata": {
        "id": "WudXZ4Skg8Xj"
      },
      "source": [
        "def compute_accuracy(W1,W2,W3,x_val,y_val):\n",
        "    \n",
        "    t = 0\n",
        "    for x, y in zip(x_val, y_val):\n",
        "      a,b,c,p,q,r = forward_propagation(W1,W2,W3,x)\n",
        "      output = c\n",
        "      \n",
        "      if np.argmax(output) == np.argmax(y):\n",
        "        t+=1\n",
        "\n",
        "    return t"
      ],
      "execution_count": null,
      "outputs": []
    },
    {
      "cell_type": "markdown",
      "metadata": {
        "id": "1DjEQ_LhcqSN"
      },
      "source": [
        "# THE MAIN  FUNTION"
      ]
    },
    {
      "cell_type": "markdown",
      "metadata": {
        "id": "txtk_0DUuID5"
      },
      "source": [
        "calculating the cost by two methods"
      ]
    },
    {
      "cell_type": "code",
      "metadata": {
        "id": "XguVPqrdwD6p"
      },
      "source": [
        "def compute_cost(AL, Y):\n",
        "    \n",
        "    # m = Y.shape[1]\n",
        "    # cost = (-1 / m) * np.sum(np.multiply(Y, np.log(AL)) + np.multiply(1 - Y, np.log(1 - AL)))\n",
        "    # #print(\"cost=\"+str(cost))\n",
        "    # return cost\n",
        "    m =19999\n",
        "    cost = 0\n",
        "    for i in range(19999):\n",
        "        cost += np.sum(Y[i]*np.log(AL[i]) + (1-Y[i])*np.log(1-AL[i]))\n",
        "\n",
        "    return -1/m*(cost)"
      ],
      "execution_count": null,
      "outputs": []
    },
    {
      "cell_type": "markdown",
      "metadata": {
        "id": "8Qg5-F-4uNxN"
      },
      "source": [
        "**THE MAIN TRAINING LOOP BEGINS FROM HERE**"
      ]
    },
    {
      "cell_type": "code",
      "metadata": {
        "id": "Ly2Wrp4rUyuE"
      },
      "source": [
        "def train(x_train,y_n_train,iter):\n",
        "  t = 0\n",
        "  alpha = 0.00001\n",
        "  m = 19999\n",
        "\n",
        "  W1 = np.random.randn(100,784)*np.sqrt(1. / 100)\n",
        "  W2 = np.random.randn(50,100)*np.sqrt(1. / 50)\n",
        "  W3 = np.random.randn(10,50)*np.sqrt(1. / 10)\n",
        "  \n",
        "  parameter = {\n",
        "      'W1': W1,\n",
        "      'W2': W2,\n",
        "      'W3': W3\n",
        "  }\n",
        "  \n",
        "  for iteration in range(1,1+iter):\n",
        "    prediction = []\n",
        "    for X,Y in zip(x_train,y_n_train):\n",
        "      \n",
        "      A1,A2,A3,Z1,Z2,Z3 = forward_propagation(W1,W2,W3,X)\n",
        "      \n",
        "      change_W1,change_W2,change_W3 = back_propagation (W1,W2,W3,A1,A2,A3,Z1,Z2,Z3,Y)\n",
        "\n",
        "      a,b,c = update_parameters(A1,A2,A3,change_W1,change_W2,change_W3,X)\n",
        "\n",
        "      W1 = W1 - alpha*a/m\n",
        "      W2 = W2 - alpha*b/m\n",
        "      W3 = W3 - alpha*c/m\n",
        "\n",
        "      prediction.append(A3)\n",
        "\n",
        "    accuracy = compute_accuracy(a,b,c,x_test, y_n_test)\n",
        "\n",
        "    print('iteration',iteration,'gives cost =',compute_cost(prediction,y_n_train))\n",
        "    print('accuracy is ',accuracy,'out of 9999 are correcctly pridicted')"
      ],
      "execution_count": null,
      "outputs": []
    },
    {
      "cell_type": "markdown",
      "metadata": {
        "id": "zvjRkVenuaBD"
      },
      "source": [
        "Defining the Parameters"
      ]
    },
    {
      "cell_type": "markdown",
      "metadata": {
        "id": "JK9JmTfbuhCH"
      },
      "source": [
        "Cutting down the array for smaller demension for testing"
      ]
    },
    {
      "cell_type": "code",
      "metadata": {
        "id": "4wZNlywdUyrH"
      },
      "source": [
        "X1 = x_train[:19999]\n",
        "Y1 = y_n_train[:19999]"
      ],
      "execution_count": null,
      "outputs": []
    },
    {
      "cell_type": "code",
      "metadata": {
        "colab": {
          "base_uri": "https://localhost:8080/"
        },
        "id": "aFWjHUoxUyod",
        "outputId": "af9074ac-d544-41ed-9e85-bc99613dedd6"
      },
      "source": [
        "train(X1,Y1,10)"
      ],
      "execution_count": null,
      "outputs": [
        {
          "output_type": "stream",
          "text": [
            "iteration 1 gives cost = 3.7636694262259693\n",
            "accuracy is  958 out of 9999 are correcctly pridicted\n",
            "iteration 2 gives cost = 3.763647668035507\n",
            "accuracy is  958 out of 9999 are correcctly pridicted\n",
            "iteration 3 gives cost = 3.7636259110674533\n",
            "accuracy is  958 out of 9999 are correcctly pridicted\n",
            "iteration 4 gives cost = 3.7636041553218083\n",
            "accuracy is  958 out of 9999 are correcctly pridicted\n",
            "iteration 5 gives cost = 3.763582400798333\n",
            "accuracy is  958 out of 9999 are correcctly pridicted\n",
            "iteration 6 gives cost = 3.763560647496976\n",
            "accuracy is  958 out of 9999 are correcctly pridicted\n",
            "iteration 7 gives cost = 3.7635388954176725\n",
            "accuracy is  958 out of 9999 are correcctly pridicted\n",
            "iteration 8 gives cost = 3.7635171445603004\n",
            "accuracy is  958 out of 9999 are correcctly pridicted\n",
            "iteration 9 gives cost = 3.763495394924761\n",
            "accuracy is  958 out of 9999 are correcctly pridicted\n",
            "iteration 10 gives cost = 3.7634736465109606\n",
            "accuracy is  958 out of 9999 are correcctly pridicted\n"
          ],
          "name": "stdout"
        }
      ]
    },
    {
      "cell_type": "markdown",
      "metadata": {
        "id": "m-K8yAokWNOI"
      },
      "source": [
        "# Using Sklearn\n"
      ]
    },
    {
      "cell_type": "code",
      "metadata": {
        "colab": {
          "base_uri": "https://localhost:8080/"
        },
        "id": "kgnwUW7M7Bue",
        "outputId": "b6da8ad6-106a-4de8-8dd7-4a6d678f328e"
      },
      "source": [
        "from sklearn.neural_network import MLPClassifier\n",
        "from sklearn.metrics import accuracy_score\n",
        "\n",
        "mlp = MLPClassifier(hidden_layer_sizes=(100,50),max_iter=30)\n",
        "mlp.fit(x_train,y_n_train)\n",
        "\n",
        "prediction = mlp.predict(x_test)\n",
        "\n",
        "accuracy = accuracy_score(prediction,y_n_test)\n",
        "\n",
        "print('the accuracy obtained by sklearn model is ',accuracy,'%')"
      ],
      "execution_count": null,
      "outputs": [
        {
          "output_type": "stream",
          "text": [
            "the accuracy obtained by sklearn model is  0.9477947794779478 %\n"
          ],
          "name": "stdout"
        },
        {
          "output_type": "stream",
          "text": [
            "/usr/local/lib/python3.7/dist-packages/sklearn/neural_network/_multilayer_perceptron.py:571: ConvergenceWarning: Stochastic Optimizer: Maximum iterations (30) reached and the optimization hasn't converged yet.\n",
            "  % self.max_iter, ConvergenceWarning)\n"
          ],
          "name": "stderr"
        }
      ]
    },
    {
      "cell_type": "code",
      "metadata": {
        "id": "KSxp-dOgWPOW"
      },
      "source": [
        ""
      ],
      "execution_count": null,
      "outputs": []
    }
  ]
}