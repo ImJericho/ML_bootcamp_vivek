{
  "nbformat": 4,
  "nbformat_minor": 0,
  "metadata": {
    "colab": {
      "name": "neural_network_2.ipynb",
      "provenance": [],
      "collapsed_sections": [],
      "toc_visible": true,
      "authorship_tag": "ABX9TyO+M6WHDVv6I30BnacYccvT",
      "include_colab_link": true
    },
    "kernelspec": {
      "display_name": "Python 3",
      "name": "python3"
    },
    "language_info": {
      "name": "python"
    }
  },
  "cells": [
    {
      "cell_type": "markdown",
      "metadata": {
        "id": "view-in-github",
        "colab_type": "text"
      },
      "source": [
        "<a href=\"https://colab.research.google.com/github/vivekpatidar1413/ML_bootcamp_vivek/blob/Neural-Network/neural_network_2.ipynb\" target=\"_parent\"><img src=\"https://colab.research.google.com/assets/colab-badge.svg\" alt=\"Open In Colab\"/></a>"
      ]
    },
    {
      "cell_type": "code",
      "metadata": {
        "id": "W26Z32bmdTNI"
      },
      "source": [
        "import numpy as np \n",
        "import pandas as pd\n",
        "import matplotlib.pyplot as plt\n",
        "import random"
      ],
      "execution_count": 214,
      "outputs": []
    },
    {
      "cell_type": "code",
      "metadata": {
        "id": "QvP6jcOcdTKh"
      },
      "source": [
        "train_df = pd.read_csv(\"/content/sample_data/mnist_train_small.csv\")\n",
        "test_df  = pd.read_csv(\"/content/sample_data/mnist_test.csv\")"
      ],
      "execution_count": 215,
      "outputs": []
    },
    {
      "cell_type": "code",
      "metadata": {
        "id": "UDhwHz9KMpl4"
      },
      "source": [
        "train = train_df.to_numpy()\n",
        "test  = test_df.to_numpy()"
      ],
      "execution_count": 216,
      "outputs": []
    },
    {
      "cell_type": "code",
      "metadata": {
        "id": "rlggotISdTGD"
      },
      "source": [
        "x_train = train[:,1:]\n",
        "y_train = train[:,:1]\n",
        "\n",
        "x_test = test[:,1:]\n",
        "y_test = test[:,:1]"
      ],
      "execution_count": 217,
      "outputs": []
    },
    {
      "cell_type": "code",
      "metadata": {
        "id": "hnzyD7LBcGpD"
      },
      "source": [
        "# Adding one more coloumn to x_train so we can take dot product of it with THEETA\n",
        "\n",
        "x_n_train = np.arange(19999*785)\n",
        "x_n_train = np.reshape(x_n_train,(19999,785))\n",
        "\n",
        "for i in range(19999):\n",
        "  x_n_train[i] = np.insert(x_train[i],0,1)\n",
        "x_n_train = x_n_train/255"
      ],
      "execution_count": 218,
      "outputs": []
    },
    {
      "cell_type": "code",
      "metadata": {
        "id": "RS3T0GMMdTDc"
      },
      "source": [
        "#converting train_label in one hot encoder representation \n",
        "\n",
        "y_n_train=np.zeros((19999,10))\n",
        "\n",
        "for i in range(19999):\n",
        "  for j in range(10):\n",
        "    if y_train[i] == j:\n",
        "      y_n_train[i,j] = 1"
      ],
      "execution_count": 219,
      "outputs": []
    },
    {
      "cell_type": "code",
      "metadata": {
        "colab": {
          "base_uri": "https://localhost:8080/"
        },
        "id": "XkG8GSLcYTDh",
        "outputId": "341597b8-e01a-403d-cbb2-8cc5c21b9730"
      },
      "source": [
        "print(x_train.shape,y_n_train.shape)"
      ],
      "execution_count": 220,
      "outputs": [
        {
          "output_type": "stream",
          "text": [
            "(19999, 784) (19999, 10)\n"
          ],
          "name": "stdout"
        }
      ]
    },
    {
      "cell_type": "markdown",
      "metadata": {
        "id": "bNXgP-L3U7Ra"
      },
      "source": [
        "# INITIALIZATION\n"
      ]
    },
    {
      "cell_type": "code",
      "metadata": {
        "id": "E3YqjZzEUy3r"
      },
      "source": [
        "W1 = np.random.randn(100,784)*np.sqrt(1. / 100)\n",
        "W2 = np.random.randn(50,100)*np.sqrt(1. / 50)\n",
        "W3 = np.random.randn(10,50)*np.sqrt(1. / 10)"
      ],
      "execution_count": 290,
      "outputs": []
    },
    {
      "cell_type": "code",
      "metadata": {
        "id": "i5BwAZfYK_Jb"
      },
      "source": [
        "def sigmoid(z):\n",
        "  temp = 1 / (1+np.exp(-z))\n",
        "  return temp"
      ],
      "execution_count": 292,
      "outputs": []
    },
    {
      "cell_type": "code",
      "metadata": {
        "id": "tqvDYbCva9U-"
      },
      "source": [
        "def sigmoid_nxt(z):\n",
        "  return (np.exp(-z))/((np.exp(-z)+1)**2)"
      ],
      "execution_count": 293,
      "outputs": []
    },
    {
      "cell_type": "code",
      "metadata": {
        "id": "mgm4iR35FO8M"
      },
      "source": [
        "def softmax(x):\n",
        "  # Numerically stable with large exponentials\n",
        "  exps = np.exp(x - x.max())\n",
        "  return exps / np.sum(exps, axis=0)"
      ],
      "execution_count": 294,
      "outputs": []
    },
    {
      "cell_type": "markdown",
      "metadata": {
        "id": "gk7eiC6MciKR"
      },
      "source": [
        "# forward propagation"
      ]
    },
    {
      "cell_type": "code",
      "metadata": {
        "id": "3zB9LIV4Uy1k"
      },
      "source": [
        "def forward_propagation (W1,W2,W3,X):\n",
        "  Z1 = np.dot(W1,X)\n",
        "  A1 = sigmoid(Z1)\n",
        "\n",
        "  Z2 = np.dot(W2,A1)\n",
        "  A2 = sigmoid(Z2)\n",
        "\n",
        "  Z3 = np.dot(W3,A2)\n",
        "  A3 = softmax(Z3)              #chk\n",
        "\n",
        "  return A1,A2,A3,Z1,Z2,Z3"
      ],
      "execution_count": 295,
      "outputs": []
    },
    {
      "cell_type": "markdown",
      "metadata": {
        "id": "VmJW2aKvclqJ"
      },
      "source": [
        "# backword propagation Alforithm\n",
        "\n",
        "1.   with updating the variable\n",
        "\n",
        "\n"
      ]
    },
    {
      "cell_type": "code",
      "metadata": {
        "id": "Ko76qdzXUyyh"
      },
      "source": [
        "def back_propagation (A1,A2,A3,Z1,Z2,Z3,Y):\n",
        "\n",
        "  error = A3 - Y\n",
        "  mee = np.dot(A3,1-A3)\n",
        "  del3 = np.dot(mee,error)\n",
        "\n",
        "  # error = A3 - Y\n",
        "  # change_W3 = np.dot(error,A3)      \n",
        "\n",
        "  # error = np.multiply(np.dot(W3.T,error),sigmoid_nxt(Z2))    #changed\n",
        "  # change_W2 = np.dot(error,A2)\n",
        "\n",
        "  # error = np.multiply(np.dot(W2.T,error),sigmoid_nxt(Z1))    #changed\n",
        "  # change_W1 = np.dot(error,A1)\n",
        "\n",
        "  return change_W1,change_W2,change_W3"
      ],
      "execution_count": 296,
      "outputs": []
    },
    {
      "cell_type": "code",
      "metadata": {
        "id": "bfvA9R9SUyv_"
      },
      "source": [
        "def update_parameters(W1,W2,W3,change_W1,change_W2,change_W3):\n",
        "  \n",
        "  alpha = 0.1\n",
        "  for i in range(100):\n",
        "    W1[i] = W1[i] - alpha*change_W1\n",
        "  for i in range(50):\n",
        "    W2[i] = W2[i] - alpha*change_W2\n",
        "  for i in range(10):\n",
        "    W3[i] = W3[i] - alpha*change_W3       #cheak it again"
      ],
      "execution_count": 335,
      "outputs": []
    },
    {
      "cell_type": "markdown",
      "metadata": {
        "id": "1DjEQ_LhcqSN"
      },
      "source": [
        "# THE MAIN  FUNTION"
      ]
    },
    {
      "cell_type": "code",
      "metadata": {
        "id": "p9tx5S-6qNUi"
      },
      "source": [
        "def cost(A3,Y):\n",
        "  temp = 0\n",
        "  A = A3/max(A3)*100\n",
        "  for i in range(200):\n",
        "    temp += np.sum(A-Y[i])**2\n",
        "\n",
        "  return temp"
      ],
      "execution_count": 336,
      "outputs": []
    },
    {
      "cell_type": "code",
      "metadata": {
        "id": "Ly2Wrp4rUyuE"
      },
      "source": [
        "def train(W1,W2,W3,x_train,y_n_train,iter):\n",
        "  for iteration in range(iter):\n",
        "    t = 0\n",
        "    for X,Y in zip(x_train,y_n_train):\n",
        "      t+=1\n",
        "      A1,A2,A3,Z1,Z2,Z3 = forward_propagation(W1,W2,W3,X)\n",
        "\n",
        "      change_W1,change_W2,change_W3 = back_propagation (A1,A2,A3,Z1,Z2,Z3,Y)\n",
        "\n",
        "      update_parameters(W1,W2,W3,change_W1,change_W2,change_W3)\n",
        "      # if t%20 == 0:\n",
        "        # print(t,' ',cost(A3,y_n_train))\n",
        "    \n",
        "    print('iteration',iteration,'gives cost =',cost(A3,y_n_train))\n"
      ],
      "execution_count": 337,
      "outputs": []
    },
    {
      "cell_type": "code",
      "metadata": {
        "colab": {
          "base_uri": "https://localhost:8080/"
        },
        "id": "4wZNlywdUyrH",
        "outputId": "3341c8d5-0715-40cd-dbe7-bf0f2042735e"
      },
      "source": [
        "\n",
        "X1 = x_train[:200]\n",
        "Y1 = y_n_train[:200]\n",
        "alpha = 1000\n",
        "print(X1.shape,Y1.shape)"
      ],
      "execution_count": 338,
      "outputs": [
        {
          "output_type": "stream",
          "text": [
            "(200, 784) (200, 10)\n"
          ],
          "name": "stdout"
        }
      ]
    },
    {
      "cell_type": "code",
      "metadata": {
        "id": "aFWjHUoxUyod"
      },
      "source": [
        "train(W1,W2,W3,X1,Y1,30)"
      ],
      "execution_count": null,
      "outputs": []
    }
  ]
}