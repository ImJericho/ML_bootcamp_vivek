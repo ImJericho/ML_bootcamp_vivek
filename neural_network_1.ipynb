{
  "nbformat": 4,
  "nbformat_minor": 0,
  "metadata": {
    "colab": {
      "name": "neural_network_1.ipynb",
      "provenance": [],
      "collapsed_sections": [],
      "toc_visible": true,
      "authorship_tag": "ABX9TyMHiIVFY6KdcquMtvm2bGsV",
      "include_colab_link": true
    },
    "kernelspec": {
      "name": "python3",
      "display_name": "Python 3"
    },
    "language_info": {
      "name": "python"
    }
  },
  "cells": [
    {
      "cell_type": "markdown",
      "metadata": {
        "id": "view-in-github",
        "colab_type": "text"
      },
      "source": [
        "<a href=\"https://colab.research.google.com/github/vivekpatidar1413/ML_bootcamp_vivek/blob/Neural-Network/neural_network_1.ipynb\" target=\"_parent\"><img src=\"https://colab.research.google.com/assets/colab-badge.svg\" alt=\"Open In Colab\"/></a>"
      ]
    },
    {
      "cell_type": "code",
      "metadata": {
        "id": "W26Z32bmdTNI"
      },
      "source": [
        "import numpy as np \n",
        "import pandas as pd\n",
        "import matplotlib.pyplot as plt"
      ],
      "execution_count": 1,
      "outputs": []
    },
    {
      "cell_type": "code",
      "metadata": {
        "id": "QvP6jcOcdTKh"
      },
      "source": [
        "train_df = pd.read_csv(\"/content/sample_data/mnist_train_small.csv\")\n",
        "test_df  = pd.read_csv(\"/content/sample_data/mnist_test.csv\")"
      ],
      "execution_count": 2,
      "outputs": []
    },
    {
      "cell_type": "code",
      "metadata": {
        "id": "UDhwHz9KMpl4"
      },
      "source": [
        "train = train_df.to_numpy()\n",
        "test  = test_df.to_numpy()"
      ],
      "execution_count": 3,
      "outputs": []
    },
    {
      "cell_type": "code",
      "metadata": {
        "id": "rlggotISdTGD"
      },
      "source": [
        "x_train = train[:,1:]\n",
        "y_train = train[:,:1]\n",
        "\n",
        "x_test = test[:,1:]\n",
        "y_test = test[:,:1]"
      ],
      "execution_count": 4,
      "outputs": []
    },
    {
      "cell_type": "code",
      "metadata": {
        "id": "hnzyD7LBcGpD"
      },
      "source": [
        "# Adding one more coloumn to x_train so we can take dot product of it with THEETA\n",
        "\n",
        "x_n_train = np.arange(19999*785)\n",
        "x_n_train = np.reshape(x_n_train,(19999,785))\n",
        "\n",
        "for i in range(19999):\n",
        "  x_n_train[i] = np.insert(x_train[i],0,1)\n",
        "x_n_train = x_n_train/255"
      ],
      "execution_count": 5,
      "outputs": []
    },
    {
      "cell_type": "code",
      "metadata": {
        "id": "RS3T0GMMdTDc"
      },
      "source": [
        "#converting train_label in one hot encoder representation \n",
        "\n",
        "y_n_train=np.zeros((19999,10))\n",
        "\n",
        "for i in range(19999):\n",
        "  for j in range(10):\n",
        "    if y_train[i] == j:\n",
        "      y_n_train[i,j] = 1"
      ],
      "execution_count": 6,
      "outputs": []
    },
    {
      "cell_type": "code",
      "metadata": {
        "colab": {
          "base_uri": "https://localhost:8080/"
        },
        "id": "EM_pT4qRiHxY",
        "outputId": "3de29724-ad0a-47b0-c51d-ac2ea2336dcb"
      },
      "source": [
        "print(x_n_train.shape,y_n_train.shape,x_train.shape)"
      ],
      "execution_count": 7,
      "outputs": [
        {
          "output_type": "stream",
          "text": [
            "(19999, 785) (19999, 10) (19999, 784)\n"
          ],
          "name": "stdout"
        }
      ]
    },
    {
      "cell_type": "code",
      "metadata": {
        "id": "i5BwAZfYK_Jb"
      },
      "source": [
        "def sigmoid(a,b):\n",
        "\n",
        "  z = np.dot(a,b)\n",
        "  temp = 1 / (1+np.exp(-z))\n",
        "  return temp"
      ],
      "execution_count": 8,
      "outputs": []
    },
    {
      "cell_type": "code",
      "metadata": {
        "id": "g3DmNF9fLRTN"
      },
      "source": [
        "#cost function\n",
        "def cost(A1,A2, Y):\n",
        "    \n",
        "    m = Y.shape[1]\n",
        "    cost = (-1 / m) * np.sum(np.multiply(Y, np.log(A)) + np.multiply(1 - Y, np.log(1 - A)))\n",
        "  \n",
        "    return cost"
      ],
      "execution_count": 9,
      "outputs": []
    },
    {
      "cell_type": "code",
      "metadata": {
        "id": "jhvjGKwXWVlN"
      },
      "source": [
        "layers_dims = [100,50]"
      ],
      "execution_count": 10,
      "outputs": []
    },
    {
      "cell_type": "code",
      "metadata": {
        "id": "DEs5cQTef-jB"
      },
      "source": [
        "def activation(W1,W2,W3,X):\n",
        "\n",
        "  A2 = sigmoid(W1,X)\n",
        "  A2 = np.insert(A2, 0, 1)\n",
        "\n",
        "  A3 = sigmoid(W2,A2)\n",
        "  A3 = np.insert(A3, 0, 1)\n",
        "\n",
        "  A4 = sigmoid(W3,A3)\n",
        "\n",
        "  return A2,A3,A4"
      ],
      "execution_count": 11,
      "outputs": []
    },
    {
      "cell_type": "code",
      "metadata": {
        "id": "m-GcDbxAWarq"
      },
      "source": [
        "def back_prop(Y,A3,A2,A1,W1,W2,W3):\n",
        "\n",
        "    del4 = A4 - Y\n",
        "\n",
        "    temp0 = np.dot(W3.T,del4)\n",
        "    temp1 = A3.*(1-A3)\n",
        "    del3 = temp0.*temp1\n",
        "\n",
        "    temp0 = np.dot(W2.T,del3)\n",
        "    temp1 = A3.*(1-A3)\n",
        "    del2 = temp0.*temp1\n"
      ],
      "execution_count": null,
      "outputs": []
    },
    {
      "cell_type": "code",
      "metadata": {
        "id": "BlYrMfsKaVEX"
      },
      "source": [
        "def update_weight(del2,del3,del4,A2,A3,A4,alpha):\n",
        "  delta1 += np.dot(A1,del2)\n",
        "  delta2 += np.dot(A2,del3)\n",
        "  delta3 += np.dot(A3,del4)\n",
        "\n",
        "  D1 = 1/m*dleta1\n",
        "  D2 = 1/m*dleta2\n",
        "  D3 = 1/m*dleta3\n",
        "\n",
        "  W1 = W1 - alpha*D1\n",
        "  W2 = W2 - alpha*D2\n",
        "  W3 = W3 - alpha*D3\n",
        "\n",
        "  return W1, W2, W3"
      ],
      "execution_count": null,
      "outputs": []
    },
    {
      "cell_type": "code",
      "metadata": {
        "id": "ikbHcfG8Wao8"
      },
      "source": [
        "def L_layer_model(Xl, Yl, layers_dims, learning_rate , num_iterations):\n",
        "    print(\"training...\")\n",
        "\n",
        "    costs = []  \n",
        "\n",
        "    W1 = np.random.randn(100,785)\n",
        "    W2 = np.random.randn(50,101)\n",
        "    W3 = np.random.randn(10,51)\n",
        "\n",
        "    for i in range(0, num_iterations):\n",
        "      for j in range(19999):\n",
        "\n",
        "          X = Xl[j]\n",
        "          Y = Yl[j]\n",
        "\n",
        "          A1 ,A2 ,A3 = activation(W1,W2,W3,X)\n",
        "\n",
        "          del2,del3,del4 = back_prop(Y,A3,A2,A1,W1,W2,W3)        \n",
        "\n",
        "          W1, W2, W3 = update_weight(del2,del3,del4,A2,A3,A4,learning_rate)\n",
        "\n",
        "      \n",
        "\n",
        "    return parameters"
      ],
      "execution_count": null,
      "outputs": []
    },
    {
      "cell_type": "code",
      "metadata": {
        "id": "V0NThBc4QzhQ"
      },
      "source": [
        "parameters = L_layer_model(x_n_train,y_n_train,layers_dims,0.1, num_iterations =35) \n",
        "print(\"training done\")"
      ],
      "execution_count": null,
      "outputs": []
    },
    {
      "cell_type": "markdown",
      "metadata": {
        "id": "6sYY0Ys90kxZ"
      },
      "source": [
        "# "
      ]
    },
    {
      "cell_type": "code",
      "metadata": {
        "id": "jf5aBRJy0oyz"
      },
      "source": [
        ""
      ],
      "execution_count": null,
      "outputs": []
    },
    {
      "cell_type": "code",
      "metadata": {
        "id": "Ov_T5KiZ0vlR"
      },
      "source": [
        ""
      ],
      "execution_count": null,
      "outputs": []
    },
    {
      "cell_type": "code",
      "metadata": {
        "id": "s-dBF6rC1dRr"
      },
      "source": [
        ""
      ],
      "execution_count": null,
      "outputs": []
    }
  ]
}