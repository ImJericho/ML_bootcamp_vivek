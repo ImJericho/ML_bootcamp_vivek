{
  "nbformat": 4,
  "nbformat_minor": 0,
  "metadata": {
    "colab": {
      "name": "MNIST_Original.ipynb",
      "provenance": [],
      "collapsed_sections": [],
      "toc_visible": true,
      "authorship_tag": "ABX9TyOpsDmv8BaCz3mWNjobH0LE",
      "include_colab_link": true
    },
    "kernelspec": {
      "name": "python3",
      "display_name": "Python 3"
    }
  },
  "cells": [
    {
      "cell_type": "markdown",
      "metadata": {
        "id": "view-in-github",
        "colab_type": "text"
      },
      "source": [
        "<a href=\"https://colab.research.google.com/github/vivekpatidar1413/ML_bootcamp_vivek/blob/Linear-Regression/MNIST_Original.ipynb\" target=\"_parent\"><img src=\"https://colab.research.google.com/assets/colab-badge.svg\" alt=\"Open In Colab\"/></a>"
      ]
    },
    {
      "cell_type": "markdown",
      "metadata": {
        "id": "WpGEnfGcSFK3"
      },
      "source": [
        "# Importing mnist data\r\n"
      ]
    },
    {
      "cell_type": "markdown",
      "metadata": {
        "id": "0eelf_9qDP7V"
      },
      "source": [
        "**Importing MNIST data**"
      ]
    },
    {
      "cell_type": "code",
      "metadata": {
        "id": "rf3VgdgFSOSd"
      },
      "source": [
        "import numpy as np\r\n",
        "import pandas as pd\r\n",
        "import sklearn\r\n",
        "import matplotlib.pyplot as plt"
      ],
      "execution_count": null,
      "outputs": []
    },
    {
      "cell_type": "code",
      "metadata": {
        "id": "W6musYZwslmT"
      },
      "source": [
        "from sklearn.datasets import fetch_openml\r\n",
        "mnist = fetch_openml('mnist_784')"
      ],
      "execution_count": null,
      "outputs": []
    },
    {
      "cell_type": "code",
      "metadata": {
        "id": "LrtvcPQN4QQl"
      },
      "source": [
        "# from keras.datasets import mnist\r\n",
        "# (x_train, y_train), (x_test, y_test) = mnist.load_data()"
      ],
      "execution_count": null,
      "outputs": []
    },
    {
      "cell_type": "code",
      "metadata": {
        "id": "w0C2Ooo1t79b"
      },
      "source": [
        "x = mnist['data']\r\n",
        "y = mnist['target']"
      ],
      "execution_count": null,
      "outputs": []
    },
    {
      "cell_type": "code",
      "metadata": {
        "id": "M3cBTCWv43NG"
      },
      "source": [
        "# print(x.shape)\r\n",
        "# print(type(x))"
      ],
      "execution_count": null,
      "outputs": []
    },
    {
      "cell_type": "code",
      "metadata": {
        "id": "DZxfhvCOwQEm"
      },
      "source": [
        "x_train = x[:60000]\r\n",
        "x_test = x[60000:]\r\n",
        "y_train = y[:60000]\r\n",
        "y_test = y[60000:]"
      ],
      "execution_count": null,
      "outputs": []
    },
    {
      "cell_type": "code",
      "metadata": {
        "id": "wSCL4sYoxUus"
      },
      "source": [
        "y_train = y_train.astype(np.int8)\r\n",
        "y_test = y_test.astype(np.int8)\r\n",
        "\r\n",
        "# print(y_train[2343])\r\n",
        "# print(x_train[1].shape)"
      ],
      "execution_count": null,
      "outputs": []
    },
    {
      "cell_type": "markdown",
      "metadata": {
        "id": "g2JIlQyiwJ1w"
      },
      "source": [
        "visualization"
      ]
    },
    {
      "cell_type": "code",
      "metadata": {
        "id": "iAhGNu1H9En9"
      },
      "source": [
        "# digit = x_train[30040]\r\n",
        "# plt.imshow(digit, cmap=matplotlib.cm.binary, interpolation=\"nearest\")\r\n",
        "# #plt.axis('off')\r\n",
        "# y_train[30040]"
      ],
      "execution_count": null,
      "outputs": []
    },
    {
      "cell_type": "markdown",
      "metadata": {
        "id": "0OR1TSoqlGH9"
      },
      "source": [
        "# applying Linear Regression"
      ]
    },
    {
      "cell_type": "markdown",
      "metadata": {
        "id": "L2aRLdharXf0"
      },
      "source": [
        "Defining Hypothesis"
      ]
    },
    {
      "cell_type": "code",
      "metadata": {
        "id": "Z_sht0YUCXJ0"
      },
      "source": [
        "def mult_vector(A,B):\r\n",
        "  for i in range(784):\r\n",
        "    r = A[i]*B[i] \r\n",
        "  \r\n",
        "  return r"
      ],
      "execution_count": null,
      "outputs": []
    },
    {
      "cell_type": "code",
      "metadata": {
        "id": "at7Vizzk1qei"
      },
      "source": [
        "from numpy import random"
      ],
      "execution_count": null,
      "outputs": []
    },
    {
      "cell_type": "code",
      "metadata": {
        "id": "T0a-MraSzqhM"
      },
      "source": [
        "Q = random.randint(50, size=(784))\r\n",
        "X = random.randint(50, size=(784))\r\n",
        "H = mult_vector(Q,X)"
      ],
      "execution_count": null,
      "outputs": []
    },
    {
      "cell_type": "markdown",
      "metadata": {
        "id": "F3i_8Eqn-K9e"
      },
      "source": [
        "Transpose Of Matrix"
      ]
    },
    {
      "cell_type": "code",
      "metadata": {
        "id": "YagHiKtR-PjX"
      },
      "source": [
        "def transpose(A,B): \r\n",
        "  \r\n",
        "    for i in range(N): \r\n",
        "        for j in range(N): \r\n",
        "            B[i][j] = A[j][i] \r\n",
        "    return B"
      ],
      "execution_count": null,
      "outputs": []
    },
    {
      "cell_type": "code",
      "metadata": {
        "id": "GGfnT1Jq0uvs"
      },
      "source": [
        "def main_function(Q,X,alpha,no_of_itration):\r\n",
        "  x_new_train = random.randint(50, size=(784))\r\n",
        "  x_n_train = transpose(x_train,x_new_train)\r\n",
        "  for j in range(no_of_itration):\r\n",
        "\r\n",
        "    for i in range(784):\r\n",
        "      Q[i] = Q[i] - alpha*np.sum((H - y_train)*x_n_train**i)/784\r\n",
        "\r\n",
        "  return Q"
      ],
      "execution_count": null,
      "outputs": []
    },
    {
      "cell_type": "code",
      "metadata": {
        "id": "hPNQaxbD2Qun"
      },
      "source": [
        "Q = main_function(Q,x_train,0.001,100)\r\n",
        "y_pred_test = mult_vector(Q,x_test)"
      ],
      "execution_count": null,
      "outputs": []
    },
    {
      "cell_type": "code",
      "metadata": {
        "id": "kvcLtIZN5zj0"
      },
      "source": [
        ""
      ],
      "execution_count": null,
      "outputs": []
    }
  ]
}